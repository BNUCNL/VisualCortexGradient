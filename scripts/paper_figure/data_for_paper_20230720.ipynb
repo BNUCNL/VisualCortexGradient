{
 "cells": [
  {
   "cell_type": "code",
   "execution_count": 1,
   "metadata": {},
   "outputs": [],
   "source": [
    "import os\n",
    "import numpy as np\n",
    "import pickle as pkl\n",
    "import pandas as pd\n",
    "import nibabel as nib\n",
    "\n",
    "from os.path import join as pjoin\n",
    "from scipy.stats import pearsonr, sem, zscore, spearmanr\n",
    "from statsmodels.stats.multitest import multipletests\n",
    "from matplotlib import pyplot as plt\n",
    "from magicbox.io.io import CiftiReader, save2cifti, GiftiReader\n",
    "from magicbox.vis.plot import plot_line, plot_polyfit\n",
    "from magicbox.stats.outlier import outlier_iqr\n",
    "from cxy_visual_dev.lib.predefine import proj_dir, Atlas,\\\n",
    "    get_rois, s1200_avg_eccentricity, s1200_avg_RFsize,\\\n",
    "    LR_count_32k, mmp_map_file, get_rois, mmp_name2label,\\\n",
    "    meas2color, s1200_midthickness_L, s1200_midthickness_R,\\\n",
    "    s1200_avg_R2\n",
    "from cxy_visual_dev.lib.algo import AgeSlideWindow\n",
    "\n",
    "anal_dir = pjoin(proj_dir, 'analysis')\n",
    "work_dir = pjoin(anal_dir, 'data_for_paper_20230720')\n",
    "if not os.path.isdir(work_dir):\n",
    "    os.makedirs(work_dir)"
   ]
  },
  {
   "cell_type": "markdown",
   "metadata": {},
   "source": [
    "# 各种PC与视觉加工层级量化指标之间的相关"
   ]
  },
  {
   "cell_type": "markdown",
   "metadata": {},
   "source": [
    "## RFsize"
   ]
  },
  {
   "cell_type": "markdown",
   "metadata": {},
   "source": [
    "### limit RFsize"
   ]
  },
  {
   "cell_type": "code",
   "execution_count": 3,
   "metadata": {},
   "outputs": [
    {
     "name": "stderr",
     "output_type": "stream",
     "text": [
      "pixdim[1,2,3] should be non-zero; setting 0 dims to 1\n"
     ]
    },
    {
     "name": "stdout",
     "output_type": "stream",
     "text": [
      "n_vtx: 2514\n"
     ]
    }
   ],
   "source": [
    "mask_type = 'Wang2015'\n",
    "visual_angle_limit = 8  # None, 8\n",
    "Hemi = 'L'\n",
    "out_name =  f'PC-corr-RFsize_angle{visual_angle_limit}-{Hemi}'\n",
    "out_file = pjoin(work_dir, f'{out_name}.csv')\n",
    "\n",
    "# ===prepare mask===\n",
    "mask = Atlas('HCP-MMP').get_mask(get_rois(f'MMP-vis3-{Hemi}'))[0]\n",
    "if mask_type == 'MMP-vis3':\n",
    "    pass\n",
    "elif mask_type == 'R2_limit':\n",
    "    mask_tmp = nib.load(s1200_avg_R2).get_fdata()[0, :LR_count_32k] > 9.8\n",
    "    mask = np.logical_and(mask, mask_tmp)\n",
    "elif mask_type == 'Wang2015':\n",
    "    mask_tmp = Atlas('Wang2015').get_mask(get_rois(f'Wang2015-{Hemi}'))[0]\n",
    "    mask = np.logical_and(mask, mask_tmp)\n",
    "else:\n",
    "    raise ValueError('unsupported mask_type:', mask_type)\n",
    "\n",
    "# ===prepare gradient maps===\n",
    "# 结构梯度的PC1\n",
    "map_stru_pc = nib.load(pjoin(\n",
    "    anal_dir, 'decomposition/'\n",
    "    f'HCPY-M+corrT_MMP-vis3-{Hemi}_zscore1_PCA-subj.dscalar.nii'\n",
    ")).get_fdata()[0, mask][None, :]\n",
    "grad_names = ['stru-PC1']\n",
    "grad_maps = [map_stru_pc]\n",
    "\n",
    "# Margulies gradient\n",
    "map_margulies_c = nib.load(pjoin(\n",
    "    proj_dir, 'data/neuromaps-data/annotations/margulies2016/'\n",
    "    'source-margulies2016_space-fsLR_den-32k_feature.dscalar.nii'\n",
    ")).get_fdata()[0, mask][None, :]\n",
    "grad_names.append('Margulies-C1')\n",
    "grad_maps.append(map_margulies_c)\n",
    "\n",
    "# RSFC矩阵的PCA成分\n",
    "reader = CiftiReader(pjoin(\n",
    "    anal_dir, 'decomposition/'\n",
    "    f'S1200-grp-RSFC-z_MMP-vis3-{Hemi}2MMP-vis3-{Hemi}_zscore_PCA-comp.dscalar.nii'))\n",
    "map_rsfc_c = reader.get_data()[0, :LR_count_32k][mask][None, :]\n",
    "grad_names.append(f'RSFC-P{reader.map_names()[0]}')\n",
    "grad_maps.append(map_rsfc_c)\n",
    "\n",
    "grad_maps = np.concatenate(grad_maps, 0)\n",
    "n_grad = len(grad_names)\n",
    "\n",
    "# ===prepare retinotopic map===\n",
    "map_meas = nib.load(s1200_avg_RFsize).get_fdata()[0, :LR_count_32k]\n",
    "map_meas = map_meas[mask]\n",
    "\n",
    "if visual_angle_limit is not None:\n",
    "    angle_mask = map_meas <= visual_angle_limit\n",
    "    grad_maps = grad_maps[:, angle_mask]\n",
    "    map_meas = map_meas[angle_mask]\n",
    "print('n_vtx:', map_meas.shape[0])\n",
    "\n",
    "rs = np.zeros(n_grad)\n",
    "ps = np.zeros(n_grad)\n",
    "for grad_idx in range(n_grad):\n",
    "    r, p = pearsonr(map_meas, grad_maps[grad_idx])\n",
    "    rs[grad_idx] = r\n",
    "    ps[grad_idx] = p\n",
    "\n",
    "out_dict = {'gradient': grad_names, 'r': rs, 'p': ps}\n",
    "out_df = pd.DataFrame(out_dict)\n",
    "out_df.to_csv(out_file, index=False)\n"
   ]
  },
  {
   "cell_type": "markdown",
   "metadata": {},
   "source": [
    "### limit Ecc"
   ]
  },
  {
   "cell_type": "code",
   "execution_count": 3,
   "metadata": {},
   "outputs": [
    {
     "name": "stderr",
     "output_type": "stream",
     "text": [
      "pixdim[1,2,3] should be non-zero; setting 0 dims to 1\n"
     ]
    },
    {
     "name": "stdout",
     "output_type": "stream",
     "text": [
      "n_vtx: 2441\n"
     ]
    }
   ],
   "source": [
    "iqr_coef = 1.5\n",
    "mask_type = 'Wang2015'\n",
    "visual_angle_limit = 8  # None, 8\n",
    "Hemi = 'R'\n",
    "out_name =  f'PC-corr-RFsize_Ecc-lim-{visual_angle_limit}_{iqr_coef}IQR_{Hemi}H'\n",
    "out_file = pjoin(work_dir, f'{out_name}.csv')\n",
    "\n",
    "# ===prepare mask===\n",
    "mask = Atlas('HCP-MMP').get_mask(get_rois(f'MMP-vis3-{Hemi}'))[0]\n",
    "if mask_type == 'MMP-vis3':\n",
    "    pass\n",
    "elif mask_type == 'R2_limit':\n",
    "    mask_tmp = nib.load(s1200_avg_R2).get_fdata()[0, :LR_count_32k] > 9.8\n",
    "    mask = np.logical_and(mask, mask_tmp)\n",
    "elif mask_type == 'Wang2015':\n",
    "    mask_tmp = Atlas('Wang2015').get_mask(get_rois(f'Wang2015-{Hemi}'))[0]\n",
    "    mask = np.logical_and(mask, mask_tmp)\n",
    "else:\n",
    "    raise ValueError('unsupported mask_type:', mask_type)\n",
    "\n",
    "# ===prepare gradient maps===\n",
    "# 结构梯度的PC1\n",
    "map_stru_pc = nib.load(pjoin(\n",
    "    anal_dir, 'decomposition/'\n",
    "    f'HCPY-M+corrT_MMP-vis3-{Hemi}_zscore1_PCA-subj.dscalar.nii'\n",
    ")).get_fdata()[0, mask][None, :]\n",
    "grad_names = ['stru-PC1']\n",
    "grad_maps = [map_stru_pc]\n",
    "\n",
    "# Margulies gradient\n",
    "map_margulies_c = nib.load(pjoin(\n",
    "    proj_dir, 'data/neuromaps-data/annotations/margulies2016/'\n",
    "    'source-margulies2016_space-fsLR_den-32k_feature.dscalar.nii'\n",
    ")).get_fdata()[0, mask][None, :]\n",
    "grad_names.append('Margulies-C1')\n",
    "grad_maps.append(map_margulies_c)\n",
    "\n",
    "# RSFC矩阵的PCA成分\n",
    "reader = CiftiReader(pjoin(\n",
    "    anal_dir, 'decomposition/'\n",
    "    f'S1200-grp-RSFC-z_MMP-vis3-{Hemi}2MMP-vis3-{Hemi}_zscore_PCA-comp.dscalar.nii'))\n",
    "map_rsfc_c = reader.get_data()[0, :LR_count_32k][mask][None, :]\n",
    "grad_names.append(f'RSFC-P{reader.map_names()[0]}')\n",
    "grad_maps.append(map_rsfc_c)\n",
    "\n",
    "grad_maps = np.concatenate(grad_maps, 0)\n",
    "n_grad = len(grad_names)\n",
    "\n",
    "# ===prepare retinotopic map===\n",
    "map_meas = nib.load(s1200_avg_RFsize).get_fdata()[0, :LR_count_32k]\n",
    "map_meas = map_meas[mask]\n",
    "\n",
    "if visual_angle_limit is not None:\n",
    "    ecc_map = nib.load(s1200_avg_eccentricity).get_fdata()[0, :LR_count_32k]\n",
    "    angle_mask = ecc_map[mask] <= visual_angle_limit\n",
    "    grad_maps = grad_maps[:, angle_mask]\n",
    "    map_meas = map_meas[angle_mask]\n",
    "print('n_vtx:', map_meas.shape[0])\n",
    "\n",
    "rs = np.zeros(n_grad)\n",
    "ps = np.zeros(n_grad)\n",
    "for grad_idx in range(n_grad):\n",
    "    if iqr_coef is not None:\n",
    "        outlier_mask1 = outlier_iqr(map_meas, iqr_coef)\n",
    "        outlier_mask2 = outlier_iqr(grad_maps[grad_idx], iqr_coef)\n",
    "        outlier_mask = np.logical_or(outlier_mask1, outlier_mask2)\n",
    "        non_outlier_mask = ~outlier_mask\n",
    "        x = map_meas[non_outlier_mask]\n",
    "        y = grad_maps[grad_idx][non_outlier_mask]\n",
    "    else:\n",
    "        x = map_meas\n",
    "        y = grad_maps[grad_idx]\n",
    "    r, p = pearsonr(x, y)\n",
    "    rs[grad_idx] = r\n",
    "    ps[grad_idx] = p\n",
    "\n",
    "out_dict = {'gradient': grad_names, 'r': rs, 'p': ps}\n",
    "out_df = pd.DataFrame(out_dict)\n",
    "out_df.to_csv(out_file, index=False)\n"
   ]
  },
  {
   "cell_type": "markdown",
   "metadata": {},
   "source": [
    "## Hierarchical Rank"
   ]
  },
  {
   "cell_type": "code",
   "execution_count": 3,
   "metadata": {},
   "outputs": [
    {
     "name": "stderr",
     "output_type": "stream",
     "text": [
      "pixdim[1,2,3] should be non-zero; setting 0 dims to 1\n"
     ]
    }
   ],
   "source": [
    "Hemi = 'L'\n",
    "path_name = 'Hierarchy3'\n",
    "figsize = (3, 3)\n",
    "rois_plot = get_rois(path_name)\n",
    "rois = [f'{Hemi}_{i}' for i in rois_plot]\n",
    "out_name = f'PC-corr-{path_name}_{Hemi}'\n",
    "out_file = pjoin(work_dir, f'{out_name}.csv')\n",
    "\n",
    "# ===prepare PC maps===\n",
    "# 结构梯度的PC1, PC2: stru-C1, stru-C2;\n",
    "map_stru_pc = nib.load(pjoin(\n",
    "    anal_dir, 'decomposition/'\n",
    "    f'HCPY-M+corrT_MMP-vis3-{Hemi}_zscore1_PCA-subj.dscalar.nii'\n",
    ")).get_fdata()[[0]]\n",
    "pc_names = ['stru-PC1']\n",
    "pc_maps = [map_stru_pc]\n",
    "\n",
    "# Margulies gradient\n",
    "map_margulies_c = nib.load(pjoin(\n",
    "    proj_dir, 'data/neuromaps-data/annotations/margulies2016/'\n",
    "    'source-margulies2016_space-fsLR_den-32k_feature.dscalar.nii'\n",
    ")).get_fdata()[[0]]\n",
    "pc_names.append('Margulies-C1')\n",
    "pc_maps.append(map_margulies_c)\n",
    "\n",
    "# RSFC矩阵的PCA成分\n",
    "reader = CiftiReader(pjoin(\n",
    "    anal_dir, 'decomposition/'\n",
    "    f'S1200-grp-RSFC-z_MMP-vis3-{Hemi}2MMP-vis3-{Hemi}_zscore_PCA-comp.dscalar.nii'))\n",
    "map_rsfc_pc = reader.get_data()[[0], :LR_count_32k]\n",
    "pc_names.append(f'RSFC-P{reader.map_names()[0]}')\n",
    "pc_maps.append(map_rsfc_pc)\n",
    "\n",
    "pc_maps = np.concatenate(pc_maps, 0)\n",
    "n_pc_map = len(pc_names)\n",
    "\n",
    "# ===prepare data===\n",
    "n_roi = len(rois)\n",
    "x = np.arange(1, n_roi+1)\n",
    "atlas = Atlas('HCP-MMP')\n",
    "rs = np.zeros(n_pc_map)\n",
    "ps = np.zeros(n_pc_map)\n",
    "for pc_idx in range(n_pc_map):\n",
    "    y =  np.zeros(n_roi)\n",
    "    for roi_idx, roi in enumerate(rois):\n",
    "        roi_mask = atlas.get_mask(roi)[0]\n",
    "        y[roi_idx] = np.mean(pc_maps[pc_idx][roi_mask])\n",
    "    r, p = spearmanr(x, y, alternative='two-sided')\n",
    "    rs[pc_idx] = r\n",
    "    ps[pc_idx] = p\n",
    "\n",
    "out_dict = {'gradient': pc_names, 'r': rs, 'p': ps}\n",
    "out_df = pd.DataFrame(out_dict)\n",
    "out_df.to_csv(out_file, index=False)"
   ]
  },
  {
   "cell_type": "markdown",
   "metadata": {},
   "source": [
    "# 初始化表格"
   ]
  },
  {
   "cell_type": "markdown",
   "metadata": {},
   "source": [
    "## PC2几何锚点信息"
   ]
  },
  {
   "cell_type": "code",
   "execution_count": 2,
   "metadata": {},
   "outputs": [],
   "source": [
    "Hemis = ('L', 'R')\n",
    "seed_name2vtx_L = {\n",
    "    'Early': [24939, 24324],\n",
    "    'Dorsal': [12485, 12545],\n",
    "    'Lateral': [23474, 15570],\n",
    "    'Ventral': [21501, 22655]}\n",
    "seed_name2vtx_R = {\n",
    "    'Early': [24938, 24433],\n",
    "    'Dorsal': [12442, 12586],\n",
    "    'Lateral': [23526, 15523],\n",
    "    'Ventral': [21501, 22485]}\n",
    "out_file = pjoin(work_dir, 'EDLV-seed-v1.xlsx')\n",
    "\n",
    "Hemi2seed_dict = {'L': seed_name2vtx_L, 'R': seed_name2vtx_R}\n",
    "Hemi2geo_file = {'L': s1200_midthickness_L, 'R': s1200_midthickness_R}\n",
    "\n",
    "out_dict = {'Hemisphere': [], 'Vertex ID': [], 'Description': [],\n",
    "            'x': [], 'y': [], 'z': [], 'Location (refer to Destrieux Atlas)': []}\n",
    "for Hemi in Hemis:\n",
    "    reader = GiftiReader(Hemi2geo_file[Hemi])\n",
    "    coords = reader.coords\n",
    "    for seed_name, seed_vertices in Hemi2seed_dict[Hemi].items():\n",
    "        if seed_name == 'Early':\n",
    "            descrip_msg = f'in {seed_name} Visual Cortex'\n",
    "        else:\n",
    "            descrip_msg = f'in {seed_name} Visual Stream'\n",
    "        for idx, seed_vtx in enumerate(seed_vertices, 1):\n",
    "            out_dict['Hemisphere'].append(f'{Hemi}H')\n",
    "            out_dict['Vertex ID'].append(seed_vtx)\n",
    "            out_dict['Description'].append(f'local minimum{idx} {descrip_msg}')\n",
    "            out_dict['x'].append(coords[seed_vtx, 0])\n",
    "            out_dict['y'].append(coords[seed_vtx, 1])\n",
    "            out_dict['z'].append(coords[seed_vtx, 2])\n",
    "            out_dict['Location (refer to Destrieux Atlas)'].append(None)\n",
    "\n",
    "out_df = pd.DataFrame(out_dict)\n",
    "out_df.to_excel(out_file, index=False)"
   ]
  },
  {
   "cell_type": "markdown",
   "metadata": {},
   "source": [
    "## 视觉脑区表"
   ]
  },
  {
   "cell_type": "code",
   "execution_count": 2,
   "metadata": {},
   "outputs": [],
   "source": [
    "rois = get_rois('MMP-vis3-R')\n",
    "roi_keys = [mmp_name2label[i] for i in rois]\n",
    "roi_lbls = [i[2:] for i in rois]\n",
    "out_dict = {'Parcel Index': roi_keys, 'Area Name': roi_lbls}\n",
    "out_df = pd.DataFrame(out_dict)\n",
    "out_df.to_excel(pjoin(work_dir, 'visual_area.xlsx'), index=False)\n"
   ]
  },
  {
   "cell_type": "markdown",
   "metadata": {},
   "source": [
    "# prepare for ANOVA"
   ]
  },
  {
   "cell_type": "markdown",
   "metadata": {},
   "source": [
    "## grad_predict_ROI9 or PC_predict_ALFF1"
   ]
  },
  {
   "cell_type": "code",
   "execution_count": 5,
   "metadata": {},
   "outputs": [
    {
     "name": "stdout",
     "output_type": "stream",
     "text": [
      "C1 to Group ID: 1\n",
      "C2 to Group ID: 2\n",
      "C1+2 to Group ID: 3\n"
     ]
    }
   ],
   "source": [
    "pc_names = ('C1', 'C2', 'C1+2')\n",
    "\n",
    "# pkl_file = pjoin(anal_dir, 'predict/grad-predict-ROI9_stru-{pc_name}_rand-100_R.pkl')\n",
    "# out_file = pjoin(work_dir, f'grad-predict-ROI9_stru_rand-100_R.csv')\n",
    "\n",
    "pkl_file = pjoin(anal_dir, 'predict/P{pc_name}_predict_fALFF1_rand-100_RH.pkl')\n",
    "out_file = pjoin(work_dir, 'PC_predict_fALFF1_rand-100_RH.csv')\n",
    "\n",
    "out_data = {'Group': [], 'Acc': []}\n",
    "for pc_num, pc_name in enumerate(pc_names, 1):\n",
    "    data = pkl.load(open(\n",
    "        pkl_file.format(pc_name=pc_name), 'rb'))\n",
    "    acc_vec = np.mean(data['test_score'], 1)\n",
    "    out_data['Acc'].extend(acc_vec)\n",
    "    out_data['Group'].extend([pc_num] * len(acc_vec))\n",
    "    print(f'{pc_name} to Group ID:', pc_num)\n",
    "out_df = pd.DataFrame(out_data)\n",
    "out_df.to_csv(out_file, index=False)\n"
   ]
  },
  {
   "cell_type": "markdown",
   "metadata": {},
   "source": [
    "## PC_predict_ROI7"
   ]
  },
  {
   "cell_type": "code",
   "execution_count": 2,
   "metadata": {},
   "outputs": [
    {
     "name": "stdout",
     "output_type": "stream",
     "text": [
      "PC1 to Group ID: 1\n",
      "PC2 to Group ID: 2\n",
      "PC1+2 to Group ID: 3\n"
     ]
    }
   ],
   "source": [
    "title = 'PC_predict_ROI7'\n",
    "trg_name = 'MMP-vis3-L'\n",
    "pc_names = ('PC1', 'PC2', 'PC1+2')\n",
    "pkl_file = pjoin(anal_dir, 'predict/{title}_{pc_name}_trg-{trg}.pkl')\n",
    "out_file = pjoin(work_dir, f'{title}_{trg_name}.csv')\n",
    "\n",
    "out_data = {'Group': [], 'Acc': []}\n",
    "for pc_num, pc_name in enumerate(pc_names, 1):\n",
    "    data = pkl.load(open(\n",
    "        pkl_file.format(title=title, pc_name=pc_name, trg=trg_name), 'rb'\n",
    "    ))\n",
    "    out_data['Acc'].extend(data['test_score'])\n",
    "    out_data['Group'].extend([pc_num] * len(data['test_score']))\n",
    "    print(f'{pc_name} to Group ID:', pc_num)\n",
    "out_df = pd.DataFrame(out_data)\n",
    "out_df.to_csv(out_file, index=False)\n"
   ]
  },
  {
   "cell_type": "markdown",
   "metadata": {},
   "source": [
    "## PC_predict_ALFF"
   ]
  },
  {
   "cell_type": "code",
   "execution_count": 3,
   "metadata": {},
   "outputs": [
    {
     "name": "stdout",
     "output_type": "stream",
     "text": [
      "PC1 to Group ID: 1\n",
      "PC2 to Group ID: 2\n",
      "PC1+2 to Group ID: 3\n"
     ]
    }
   ],
   "source": [
    "Hemi = 'RH'\n",
    "pc_names = ('PC1', 'PC2', 'PC1+2')\n",
    "trg_name = 'fALFF'\n",
    "pkl_file = pjoin(anal_dir, 'predict/{pc}_predict_{trg}_{Hemi}.pkl')\n",
    "out_file = pjoin(work_dir, f'PC_predict_{trg_name}_{Hemi}.csv')\n",
    "\n",
    "out_data = {'Group': [], 'R2': []}\n",
    "for pc_num, pc_name in enumerate(pc_names, 1):\n",
    "    data = pkl.load(open(\n",
    "        pkl_file.format(pc=pc_name, trg=trg_name, Hemi=Hemi), 'rb'\n",
    "    ))\n",
    "    out_data['R2'].extend(data['test_score'])\n",
    "    out_data['Group'].extend([pc_num] * len(data['test_score']))\n",
    "    print(f'{pc_name} to Group ID:', pc_num)\n",
    "out_df = pd.DataFrame(out_data)\n",
    "out_df.to_csv(out_file, index=False)\n"
   ]
  },
  {
   "cell_type": "markdown",
   "metadata": {},
   "source": [
    "# 左右脑对应PC之间的相关"
   ]
  },
  {
   "cell_type": "code",
   "execution_count": 2,
   "metadata": {},
   "outputs": [
    {
     "name": "stderr",
     "output_type": "stream",
     "text": [
      "pixdim[1,2,3] should be non-zero; setting 0 dims to 1\n"
     ]
    },
    {
     "name": "stdout",
     "output_type": "stream",
     "text": [
      "(20, 32492)\n",
      "(20, 32492)\n",
      "n_vtx of mask_l 6849\n",
      "n_vtx of mask_r 6747\n",
      "n_vtx of mask: 6584\n",
      "===PC_L-corr-R===\n",
      "PC name: r; p\n",
      "PC1: 0.9881989454190239; 0.0\n",
      "PC2: 0.9390732049353178; 0.0\n",
      "PC3: -0.8653490724523865; 0.0\n",
      "PC4: 0.8464355875545557; 0.0\n",
      "PC5: -0.39776436457756487; 1.687839963861709e-248\n",
      "PC6: -0.3799014081016432; 4.374759020526336e-225\n",
      "PC7: 0.21625835689504314; 1.583280711116812e-70\n",
      "PC8: 0.18806748444520618; 1.7735614117159673e-53\n",
      "PC9: -0.23375029431382255; 2.0631331912909536e-82\n",
      "PC10: 0.5573782151861703; 0.0\n"
     ]
    }
   ],
   "source": [
    "pc_names = tuple(f'PC{i}' for i in range(1, 11))\n",
    "pc_file_l = pjoin(\n",
    "    anal_dir, 'decomposition/'\n",
    "    'HCPY-M+corrT_MMP-vis3-L_zscore1_PCA-subj.dscalar.nii')\n",
    "pc_file_r = pjoin(\n",
    "    anal_dir, 'decomposition/'\n",
    "    'HCPY-M+corrT_MMP-vis3-R_zscore1_PCA-subj.dscalar.nii')\n",
    "\n",
    "pc_maps_l = CiftiReader(pc_file_l).get_data('CIFTI_STRUCTURE_CORTEX_LEFT', True)\n",
    "pc_maps_r = CiftiReader(pc_file_r).get_data('CIFTI_STRUCTURE_CORTEX_RIGHT', True)\n",
    "print(pc_maps_l.shape)\n",
    "print(pc_maps_r.shape)\n",
    "\n",
    "reader = CiftiReader(mmp_map_file)\n",
    "mmp_map_l = reader.get_data('CIFTI_STRUCTURE_CORTEX_LEFT', True)[0]\n",
    "mmp_map_r = reader.get_data('CIFTI_STRUCTURE_CORTEX_RIGHT', True)[0]\n",
    "mask_l = np.zeros_like(mmp_map_l, bool)\n",
    "mask_r = np.zeros_like(mmp_map_r, bool)\n",
    "for roi in get_rois('MMP-vis3-L'):\n",
    "    mask_l = np.logical_or(mask_l, mmp_map_l == mmp_name2label[roi])\n",
    "for roi in get_rois('MMP-vis3-R'):\n",
    "    mask_r = np.logical_or(mask_r, mmp_map_r == mmp_name2label[roi])\n",
    "print('n_vtx of mask_l', np.sum(mask_l))\n",
    "print('n_vtx of mask_r', np.sum(mask_r))\n",
    "mask = np.logical_and(mask_l, mask_r)\n",
    "print('n_vtx of mask:', np.sum(mask))\n",
    "\n",
    "print('===PC_L-corr-R===')\n",
    "print('PC name: r; p')\n",
    "for pc_idx, pc_name in enumerate(pc_names):\n",
    "    r, p = pearsonr(pc_maps_l[pc_idx, mask], pc_maps_r[pc_idx, mask])\n",
    "    print(f'{pc_name}: {r}; {p}')\n"
   ]
  },
  {
   "cell_type": "markdown",
   "metadata": {},
   "source": [
    "# 调整map的值"
   ]
  },
  {
   "cell_type": "markdown",
   "metadata": {},
   "source": [
    "## 将PC map减去其自身的最小值"
   ]
  },
  {
   "cell_type": "code",
   "execution_count": 2,
   "metadata": {},
   "outputs": [],
   "source": [
    "Hemis = ('L', 'R')\n",
    "pc_file = pjoin(\n",
    "    anal_dir, 'decomposition/'\n",
    "    'HCPY-M+corrT_MMP-vis3-{Hemi}_zscore1_PCA-subj.dscalar.nii')\n",
    "out_file = pjoin(work_dir, 'HCPY-M+corrT_MMP-vis3-{Hemi}_zscore1_PCA-subj_min-0.dscalar.nii')\n",
    "\n",
    "for Hemi in Hemis:\n",
    "    reader = CiftiReader(pc_file.format(Hemi=Hemi))\n",
    "    data = reader.get_data()\n",
    "    data = data - np.nanmin(data, 1, keepdims=True)\n",
    "    save2cifti(out_file.format(Hemi=Hemi), data, reader.brain_models(), reader.map_names())\n"
   ]
  },
  {
   "cell_type": "markdown",
   "metadata": {},
   "source": [
    "## 将几何模型进行zscore"
   ]
  },
  {
   "cell_type": "code",
   "execution_count": 2,
   "metadata": {},
   "outputs": [
    {
     "name": "stderr",
     "output_type": "stream",
     "text": [
      "pixdim[1,2,3] should be non-zero; setting 0 dims to 1\n"
     ]
    }
   ],
   "source": [
    "atlas = Atlas('HCP-MMP')\n",
    "mask = atlas.get_mask(get_rois('MMP-vis3-L') + get_rois('MMP-vis3-R'))[0]\n",
    "geo_file1 = pjoin(\n",
    "        anal_dir, 'gdist/gdist_src-CalcarineSulcus.dscalar.nii')\n",
    "geo_file2 = pjoin(\n",
    "        anal_dir, 'gdist/gdist4_src-EDLV-seed-v1.dscalar.nii')\n",
    "geo_files = [geo_file1, geo_file2]\n",
    "\n",
    "for geo_file in geo_files:\n",
    "    fname = os.path.basename(geo_file).split('.')[0]\n",
    "    out_file = pjoin(work_dir, f'{fname}_MMP-vis3_zscore.dscalar.nii')\n",
    "    reader = CiftiReader(geo_file)\n",
    "    data = reader.get_data()\n",
    "    data[:, ~mask] = np.nan\n",
    "    data[:, mask] = zscore(data[:, mask], 1)\n",
    "    save2cifti(out_file, data, reader.brain_models(),\n",
    "               reader.map_names(), reader.volume, reader.label_tables())\n"
   ]
  },
  {
   "cell_type": "code",
   "execution_count": 5,
   "metadata": {},
   "outputs": [
    {
     "name": "stderr",
     "output_type": "stream",
     "text": [
      "pixdim[1,2,3] should be non-zero; setting 0 dims to 1\n"
     ]
    },
    {
     "name": "stdout",
     "output_type": "stream",
     "text": [
      "===gdist_src-CalcarineSulcus===\n",
      "1.8 is related to 81.2010106427525\n",
      "===gdist4_src-EDLV-seed-v1===\n",
      "1.8 is related to 35.32103069570686\n"
     ]
    }
   ],
   "source": [
    "# 逆运算\n",
    "v_in_data2 = 1.8\n",
    "atlas = Atlas('HCP-MMP')\n",
    "mask = atlas.get_mask(get_rois('MMP-vis3-L') + get_rois('MMP-vis3-R'))[0]\n",
    "geo_file1 = pjoin(\n",
    "        anal_dir, 'gdist/gdist_src-CalcarineSulcus.dscalar.nii')\n",
    "geo_file2 = pjoin(\n",
    "        anal_dir, 'gdist/gdist4_src-EDLV-seed-v1.dscalar.nii')\n",
    "geo_files = [geo_file1, geo_file2]\n",
    "\n",
    "for geo_file in geo_files:\n",
    "    geo_map = nib.load(geo_file).get_fdata()[0]\n",
    "    assert nib.load(geo_file).shape[0] == 1\n",
    "    fname = os.path.basename(geo_file).split('.')[0]\n",
    "    fpath = pjoin(work_dir, f'{fname}_MMP-vis3_zscore.dscalar.nii')\n",
    "    geo_map_zscore = nib.load(fpath).get_fdata()[0]\n",
    "    assert nib.load(fpath).shape[0] == 1\n",
    "\n",
    "    data1 = geo_map[mask]\n",
    "    data2 = geo_map_zscore[mask]\n",
    "    data1_mean = np.mean(data1)\n",
    "    data1_std = np.std(data1)\n",
    "    np.testing.assert_almost_equal(data1, data2 * data1_std + data1_mean, 14)\n",
    "    v_in_data1 = v_in_data2 * data1_std + data1_mean\n",
    "\n",
    "    print(f'==={fname}===')\n",
    "    print(f'{v_in_data2} is related to {v_in_data1}')\n"
   ]
  },
  {
   "cell_type": "markdown",
   "metadata": {},
   "source": [
    "## 将fALFF map进行zscore"
   ]
  },
  {
   "cell_type": "code",
   "execution_count": 2,
   "metadata": {},
   "outputs": [
    {
     "name": "stderr",
     "output_type": "stream",
     "text": [
      "pixdim[1,2,3] should be non-zero; setting 0 dims to 1\n"
     ]
    }
   ],
   "source": [
    "atlas = Atlas('HCP-MMP')\n",
    "mask = atlas.get_mask(get_rois('MMP-vis3-L') + get_rois('MMP-vis3-R'), 'grayordinate')[0]\n",
    "src_file = pjoin(anal_dir, 'AFF/HCPY-faff.dscalar.nii')\n",
    "out_file = pjoin(work_dir, 'HCPY-faff_MMP-vis3_zscore.dscalar.nii')\n",
    "\n",
    "reader = CiftiReader(src_file)\n",
    "data = reader.get_data()\n",
    "data[:, ~mask] = np.nan\n",
    "data[:, mask] = zscore(data[:, mask], 1)\n",
    "save2cifti(out_file, data, reader.brain_models(),\n",
    "           reader.map_names(), reader.volume, reader.label_tables())\n"
   ]
  },
  {
   "cell_type": "code",
   "execution_count": 3,
   "metadata": {},
   "outputs": [
    {
     "name": "stderr",
     "output_type": "stream",
     "text": [
      "pixdim[1,2,3] should be non-zero; setting 0 dims to 1\n"
     ]
    },
    {
     "name": "stdout",
     "output_type": "stream",
     "text": [
      "1.5 is related to 0.18637160486600307\n"
     ]
    }
   ],
   "source": [
    "# 逆运算\n",
    "v_in_data2 = 1.5\n",
    "atlas = Atlas('HCP-MMP')\n",
    "mask = atlas.get_mask(get_rois('MMP-vis3-L') + get_rois('MMP-vis3-R'), 'grayordinate')[0]\n",
    "fpath1 = pjoin(anal_dir, 'AFF/HCPY-faff.dscalar.nii')\n",
    "fpath2 = pjoin(work_dir, 'HCPY-faff_MMP-vis3_zscore.dscalar.nii')\n",
    "\n",
    "reader1 = CiftiReader(fpath1)\n",
    "reader2 = CiftiReader(fpath2)\n",
    "assert reader1.map_names() == reader2.map_names()\n",
    "assert reader1.map_names() == ['LFF', 'slow5', 'slow4', 'slow3', 'slow2', 'slow1']\n",
    "data1 = reader1.get_data()[0, mask]\n",
    "data2 = reader2.get_data()[0, mask]\n",
    "data1_mean = np.mean(data1)\n",
    "data1_std = np.std(data1)\n",
    "np.testing.assert_almost_equal(data1, data2 * data1_std + data1_mean, 15)\n",
    "v_in_data1 = v_in_data2 * data1_std + data1_mean\n",
    "print(f'{v_in_data2} is related to {v_in_data1}')\n"
   ]
  },
  {
   "attachments": {},
   "cell_type": "markdown",
   "metadata": {},
   "source": [
    "# HCPYA整体PCA的方差解释率"
   ]
  },
  {
   "cell_type": "code",
   "execution_count": 7,
   "metadata": {},
   "outputs": [
    {
     "name": "stderr",
     "output_type": "stream",
     "text": [
      "/usr/local/neurosoft/anaconda3/lib/python3.8/site-packages/sklearn/base.py:329: UserWarning: Trying to unpickle estimator PCA from version 1.0 when using version 1.0.2. This might lead to breaking code or invalid results. Use at your own risk. For more info please refer to:\n",
      "https://scikit-learn.org/stable/modules/model_persistence.html#security-maintainability-limitations\n",
      "  warnings.warn(\n"
     ]
    }
   ],
   "source": [
    "mod_name = 'M+corrT'  # M, corrT, half0-M+corrT, M+corrT\n",
    "Hemis = ('L', 'R')\n",
    "pca_file = pjoin(anal_dir, 'decomposition/'\n",
    "                 'HCPY-{mod}_MMP-vis3-{Hemi}_zscore1_PCA-subj.pkl')\n",
    "out_file = pjoin(work_dir, f'HCPY-PC-Var_{mod_name}.csv')\n",
    "\n",
    "data = {}\n",
    "for Hemi in Hemis:\n",
    "    pca = pkl.load(open(pca_file.format(mod=mod_name, Hemi=Hemi), 'rb'))\n",
    "    data[f'{Hemi}H'] = pca.explained_variance_ratio_\n",
    "n_pc = len(data['LH'])\n",
    "assert n_pc == len(data['RH'])\n",
    "data['PC_name'] = [f'PC{i}' for i in range(1, n_pc+1)]\n",
    "\n",
    "df = pd.DataFrame(data)\n",
    "df.to_csv(out_file, index=False)"
   ]
  },
  {
   "attachments": {},
   "cell_type": "markdown",
   "metadata": {},
   "source": [
    "# 髓鞘含量和皮质厚度分别在主次梯度中的贡献比例"
   ]
  },
  {
   "cell_type": "code",
   "execution_count": 2,
   "metadata": {},
   "outputs": [],
   "source": [
    "Hemis = ('L', 'R')\n",
    "pc_names = ('C1', 'C2')\n",
    "meas_names = ('Myelination', 'Thickness')\n",
    "meas2file = {\n",
    "    'Myelination': pjoin(anal_dir, 'decomposition/'\n",
    "        'HCPY-M+corrT_MMP-vis3-{Hemi}_zscore1_PCA-subj_M.csv'),\n",
    "    'Thickness': pjoin(anal_dir, 'decomposition/'\n",
    "        'HCPY-M+corrT_MMP-vis3-{Hemi}_zscore1_PCA-subj_corrT.csv')}\n",
    "out_file = pjoin(work_dir, 'HCPY-M+T_contribute_PC1+2.csv')\n",
    "\n",
    "n_meas = len(meas_names)\n",
    "n_pc = len(pc_names)\n",
    "data = {'measurement': meas_names}\n",
    "for Hemi in Hemis:\n",
    "    y = np.zeros((n_meas, n_pc))\n",
    "    for meas_idx, meas_name in enumerate(meas_names):\n",
    "        fpath = meas2file[meas_name].format(Hemi=Hemi)\n",
    "        df = pd.read_csv(fpath)\n",
    "        for pc_idx, pc_name in enumerate(pc_names):\n",
    "            samples = np.abs(df[pc_name].values)\n",
    "            y[meas_idx, pc_idx] = np.sum(samples)\n",
    "    y /= np.sum(y, 0, keepdims=True)\n",
    "\n",
    "    for pc_idx, pc_name in enumerate(pc_names):\n",
    "        data[f'{Hemi}H_P{pc_name}'] = y[:, pc_idx]\n",
    "\n",
    "df = pd.DataFrame(data)\n",
    "df.to_csv(out_file, index=False)"
   ]
  },
  {
   "cell_type": "markdown",
   "metadata": {},
   "source": [
    "# 其它方式PCA得到的成分与PC1，PC2的相关"
   ]
  },
  {
   "cell_type": "code",
   "execution_count": 4,
   "metadata": {},
   "outputs": [
    {
     "name": "stderr",
     "output_type": "stream",
     "text": [
      "pixdim[1,2,3] should be non-zero; setting 0 dims to 1\n",
      "pixdim[1,2,3] should be non-zero; setting 0 dims to 1\n"
     ]
    }
   ],
   "source": [
    "mod_name = 'half0-M+corrT'  # M, corrT, half0-M+corrT\n",
    "Hemis = ['L', 'R']\n",
    "vis_names = 'MMP-vis3-{Hemi}'\n",
    "pc_names = ('PC1', 'PC2')\n",
    "pc_file = pjoin(\n",
    "    anal_dir, 'decomposition/'\n",
    "    'HCPY-M+corrT_{vis_name}_zscore1_PCA-subj.dscalar.nii')\n",
    "c_names = ('C1', 'C2')\n",
    "mod_file = pjoin(\n",
    "    anal_dir, 'decomposition/'\n",
    "    'HCPY-{mod}_{vis_name}_zscore1_PCA-subj.dscalar.nii')\n",
    "out_name = f'{mod_name}-C1+2-corr-PC1+2'\n",
    "out_file = pjoin(work_dir, f'{out_name}.csv')\n",
    "\n",
    "n_pc = len(pc_names)\n",
    "n_c = len(c_names)\n",
    "out_dict = {}\n",
    "for Hemi in Hemis:\n",
    "    vis_name = vis_names.format(Hemi=Hemi)\n",
    "    vis_mask = Atlas('HCP-MMP').get_mask(get_rois(vis_name))[0]\n",
    "    pc_maps = nib.load(\n",
    "        pc_file.format(vis_name=vis_name)).get_fdata()[:n_pc, vis_mask]\n",
    "    c_maps = nib.load(\n",
    "        mod_file.format(mod=mod_name, vis_name=vis_name)\n",
    "    ).get_fdata()[:n_c, vis_mask]\n",
    "    for c_idx, c_name in enumerate(c_names):\n",
    "        out_dict[f'{Hemi}H_{c_name} (r)'] = np.zeros(n_pc)\n",
    "        out_dict[f'{Hemi}H_{c_name} (p)'] = np.zeros(n_pc)\n",
    "        for pc_idx, pc_name in enumerate(pc_names):\n",
    "            r, p = pearsonr(pc_maps[pc_idx], c_maps[c_idx])\n",
    "            out_dict[f'{Hemi}H_{c_name} (r)'][pc_idx] = r\n",
    "            out_dict[f'{Hemi}H_{c_name} (p)'][pc_idx] = p\n",
    "\n",
    "out_df = pd.DataFrame(out_dict, index=pc_names)\n",
    "out_df.to_csv(out_file, index=True)\n"
   ]
  },
  {
   "attachments": {},
   "cell_type": "markdown",
   "metadata": {},
   "source": [
    "# 主次梯度分别在整个视觉皮层以及EDLV四个部分内的值"
   ]
  },
  {
   "cell_type": "code",
   "execution_count": 2,
   "metadata": {},
   "outputs": [
    {
     "name": "stderr",
     "output_type": "stream",
     "text": [
      "pixdim[1,2,3] should be non-zero; setting 0 dims to 1\n"
     ]
    }
   ],
   "source": [
    "Hemis = ('L', 'R')\n",
    "pc_names = ('PC1', 'PC2')\n",
    "edlv_names = ['early', 'dorsal', 'lateral', 'ventral']\n",
    "atlas = Atlas('HCP-MMP')\n",
    "pc_file = pjoin(\n",
    "    anal_dir, 'decomposition/'\n",
    "    'HCPY-M+corrT_{vis_name}_zscore1_PCA-subj.dscalar.nii')\n",
    "edlv_file = pjoin(proj_dir, 'data/HCP/HCP-MMP1_visual-cortex3_EDLV.dlabel.nii')\n",
    "out_file = pjoin(work_dir, 'PC1+2_in_EDLV.pkl')\n",
    "\n",
    "reader = CiftiReader(edlv_file)\n",
    "edlv_data = reader.get_data()[0]\n",
    "lbl_tab = reader.label_tables()[0]\n",
    "data = {}\n",
    "for pc_name in pc_names:\n",
    "    data[pc_name] = {}\n",
    "for Hemi in Hemis:\n",
    "    vis_name = f'MMP-vis3-{Hemi}'\n",
    "    vis_mask = atlas.get_mask(get_rois(vis_name))[0]\n",
    "    pc_maps = nib.load(\n",
    "        pc_file.format(vis_name=vis_name)\n",
    "    ).get_fdata()[:2, vis_mask]\n",
    "\n",
    "    edlv_map = edlv_data[vis_mask]\n",
    "    edlv_keys = np.unique(edlv_map)\n",
    "    edlv_name2mask = {}\n",
    "    for edlv_k in edlv_keys:\n",
    "        edlv_n = lbl_tab[edlv_k].label.lstrip(f'{Hemi}_')\n",
    "        if edlv_n == 'boundary':\n",
    "            continue\n",
    "        edlv_name2mask[edlv_n] = edlv_map == edlv_k\n",
    "\n",
    "    for pc_idx, pc_name in enumerate(pc_names):\n",
    "        data[pc_name][f'{Hemi}H_whole'] = pc_maps[pc_idx]\n",
    "        for edlv_n in edlv_names:\n",
    "            mask = edlv_name2mask[edlv_n]\n",
    "            data[pc_name][f'{Hemi}H_{edlv_n}'] = pc_maps[pc_idx][mask]\n",
    "pkl.dump(data, open(out_file, 'wb'))\n"
   ]
  },
  {
   "cell_type": "markdown",
   "metadata": {},
   "source": [
    "# 将所有顶点对以测地距离由小到大排列，然后均匀分成几份"
   ]
  },
  {
   "cell_type": "markdown",
   "metadata": {},
   "source": [
    "## 在各部分均分的空间范围内，首先逐顶点总结其与范围内的顶点的梯度距离的mean统计值，然后跨顶点计算该统计值的mean和sem"
   ]
  },
  {
   "cell_type": "code",
   "execution_count": 3,
   "metadata": {},
   "outputs": [],
   "source": [
    "n_seg = 100\n",
    "Hemi = 'R'\n",
    "vis_name = f'MMP-vis3-{Hemi}'\n",
    "pc_names = ('PC1', 'PC2')\n",
    "geo_dist_file = pjoin(anal_dir, f'gdist/gdist-between-all-pair-vtx_{vis_name}.pkl')\n",
    "grad_dist_file = pjoin(anal_dir, f'grad_dist/grad_dist_{vis_name}.pkl')\n",
    "out_file = pjoin(work_dir, f'grad-dist_vs_geo-dist_row-mean_seg{n_seg}_{vis_name}.pkl')\n",
    "\n",
    "# loading\n",
    "geo_dist = pkl.load(open(geo_dist_file, 'rb'))\n",
    "grad_dist = pkl.load(open(grad_dist_file, 'rb'))\n",
    "\n",
    "n_pc = len(pc_names)\n",
    "# prepare geodesic and gradient distance\n",
    "geo_dist_arr = geo_dist['gdist']\n",
    "grad_dist_arrs = [grad_dist[f'{i}-zscore'] for i in pc_names]\n",
    "\n",
    "# prepare segments\n",
    "n_vtx = geo_dist_arr.shape[0]\n",
    "idx_mat = np.tri(n_vtx, k=-1, dtype=bool).T\n",
    "geo_dist_vec = geo_dist_arr[idx_mat]\n",
    "n_pair = len(geo_dist_vec)\n",
    "sort_indices = np.argsort(geo_dist_vec)\n",
    "seg_indices = np.linspace(0, n_pair, n_seg+1, endpoint=True, dtype=int)\n",
    "\n",
    "# mask gradient distance\n",
    "out_data = {'segment': [], 'segment_dist': np.zeros(n_seg)}\n",
    "for pc_name in pc_names:\n",
    "    out_data[f'{pc_name}_mean'] = np.zeros(n_seg)\n",
    "    out_data[f'{pc_name}_sem'] = np.zeros(n_seg)\n",
    "for idx, seg_idx_s in enumerate(seg_indices[:-1]):\n",
    "    seg_idx_e = seg_indices[idx + 1]\n",
    "    indices = sort_indices[seg_idx_s:seg_idx_e]\n",
    "    geo_mask_vec = np.zeros(n_pair, dtype=bool)\n",
    "    geo_mask_vec[indices] = True\n",
    "    geo_mask_arr = np.zeros((n_vtx, n_vtx), dtype=bool)\n",
    "    geo_mask_arr[idx_mat] = geo_mask_vec\n",
    "    geo_mask_arr = np.logical_or(geo_mask_arr, geo_mask_arr.T)\n",
    "    for pc_idx, pc_name in enumerate(pc_names):\n",
    "        pc_dist_arr = grad_dist_arrs[pc_idx]\n",
    "        pc_dist_vec = []\n",
    "        for vtx_idx in range(n_vtx):\n",
    "            row_data = pc_dist_arr[vtx_idx][geo_mask_arr[vtx_idx]]\n",
    "            n_valid = len(row_data)\n",
    "            if n_valid > 0:\n",
    "                pc_dist_vec.append(np.mean(row_data))\n",
    "        out_data[f'{pc_name}_mean'][idx] = np.mean(pc_dist_vec)\n",
    "        out_data[f'{pc_name}_sem'][idx] = sem(pc_dist_vec)\n",
    "    out_data['segment'].append('{:.2f}~{:.2f}'.format(\n",
    "        geo_dist_vec[indices[0]], geo_dist_vec[indices[-1]]))\n",
    "    out_data['segment_dist'][idx] = np.mean(geo_dist_vec[indices])\n",
    "\n",
    "# save\n",
    "pkl.dump(out_data, open(out_file, 'wb'))\n"
   ]
  },
  {
   "attachments": {},
   "cell_type": "markdown",
   "metadata": {},
   "source": [
    "# 主次梯度以及视网膜拓扑参数在Wang2015范围内的值"
   ]
  },
  {
   "cell_type": "markdown",
   "metadata": {},
   "source": [
    "## 提取数据"
   ]
  },
  {
   "cell_type": "code",
   "execution_count": 2,
   "metadata": {},
   "outputs": [
    {
     "name": "stderr",
     "output_type": "stream",
     "text": [
      "pixdim[1,2,3] should be non-zero; setting 0 dims to 1\n"
     ]
    },
    {
     "name": "stdout",
     "output_type": "stream",
     "text": [
      "n_vtx: 2509\n",
      "n_vtx: 2441\n"
     ]
    }
   ],
   "source": [
    "vis_angle_limit = 8  # None, 8\n",
    "Hemis = ('L', 'R')\n",
    "n_pc = 2\n",
    "pc_names = [f'PC{i}' for i in range(1, n_pc + 1)]\n",
    "pc_file = pjoin(\n",
    "    anal_dir, 'decomposition/'\n",
    "    'HCPY-M+corrT_MMP-vis3-{Hemi}_zscore1_PCA-subj.dscalar.nii')\n",
    "meas_names = ('RFsize', 'Eccentricity')\n",
    "meas2file = {\n",
    "    'Eccentricity': s1200_avg_eccentricity,\n",
    "    'RFsize': s1200_avg_RFsize}\n",
    "out_file = pjoin(work_dir, f'PC1+2-corr-retinotopy_Wang2015_Ecc-lim-{vis_angle_limit}.pkl')\n",
    "\n",
    "atlas1 = Atlas('HCP-MMP')\n",
    "atlas2 = Atlas('Wang2015')\n",
    "data = {}\n",
    "for Hemi in Hemis:\n",
    "    mask1 = atlas1.get_mask(get_rois(f'MMP-vis3-{Hemi}'))[0]\n",
    "    mask2 = atlas2.get_mask(get_rois(f'Wang2015-{Hemi}'))[0]\n",
    "    mask = np.logical_and(mask1, mask2)\n",
    "\n",
    "    if vis_angle_limit is not None:\n",
    "        ecc_map = nib.load(s1200_avg_eccentricity).get_fdata()[0, :LR_count_32k]\n",
    "        angle_mask = ecc_map <= vis_angle_limit\n",
    "        mask = np.logical_and(mask, angle_mask)\n",
    "    print('n_vtx:', np.sum(mask))\n",
    "\n",
    "    map_pcs = nib.load(\n",
    "        pc_file.format(Hemi=Hemi)).get_fdata()[:n_pc, mask]\n",
    "    for pc_idx, pc_name in enumerate(pc_names):\n",
    "        data[f'{Hemi}H_{pc_name}'] = map_pcs[pc_idx]\n",
    "\n",
    "    for meas_name in meas_names:\n",
    "        map_meas = nib.load(meas2file[meas_name]).get_fdata()[0, :LR_count_32k]\n",
    "        data[f'{Hemi}H_{meas_name}'] = map_meas[mask]\n",
    "\n",
    "pkl.dump(data, open(out_file, 'wb'))\n"
   ]
  },
  {
   "cell_type": "markdown",
   "metadata": {},
   "source": [
    "## Plot"
   ]
  },
  {
   "cell_type": "code",
   "execution_count": 3,
   "metadata": {},
   "outputs": [
    {
     "name": "stdout",
     "output_type": "stream",
     "text": [
      "\n",
      "---PC1---\n",
      "n_vtx 2440\n",
      "polynomial:\n",
      "  \n",
      "5.935 x - 28.6\n",
      "\n",
      "score: PearsonRResult(statistic=0.661747242163385, pvalue=2.5197284913560702e-307)\n",
      "pearsonr(x, y, alternative='two-sided'):\n",
      " PearsonRResult(statistic=0.6617472421633851, pvalue=2.5197284913560702e-307)\n",
      "\n",
      "---PC2---\n",
      "n_vtx 2426\n",
      "polynomial:\n",
      "  \n",
      "0.1753 x - 2.895\n",
      "\n",
      "score: PearsonRResult(statistic=0.03257208884386837, pvalue=0.1087319566728472)\n",
      "pearsonr(x, y, alternative='two-sided'):\n",
      " PearsonRResult(statistic=0.03257208884386832, pvalue=0.1087319566728597)\n"
     ]
    },
    {
     "data": {
      "image/png": "[encoded data removed]",
      "text/plain": [
       "<Figure size 180x288 with 2 Axes>"
      ]
     },
     "metadata": {
      "needs_background": "light"
     },
     "output_type": "display_data"
    }
   ],
   "source": [
    "iqr_coef = 1.5  # 1.5, 2, 3, None\n",
    "figsize = (2.5, 4)\n",
    "Hemi = 'R'\n",
    "meas_name = 'RFsize'  # RFsize, Eccentricity\n",
    "pc_names = ['PC1', 'PC2']\n",
    "src_file = pjoin(work_dir, 'PC1+2-corr-retinotopy_Wang2015_Ecc-lim-8.pkl')\n",
    "out_name1 =  f'PC1+2-corr-{meas_name}'\n",
    "out_name2 =  f'Wang2015_Ecc-lim-8_{Hemi}'\n",
    "out_file = pjoin(work_dir, f'{out_name1}_{out_name2}.jpg')\n",
    "out_file = 'show'\n",
    "\n",
    "plot_data_file = pjoin(work_dir, f'{out_name1}_{out_name2}H_{iqr_coef}IQR.pkl')\n",
    "# plot_data_file = None\n",
    "\n",
    "n_pc = len(pc_names)\n",
    "data = pkl.load(open(src_file, 'rb'))\n",
    "fig, axes = plt.subplots(n_pc, 1, figsize=figsize)\n",
    "x_raw = data[f'{Hemi}H_{meas_name}']\n",
    "if iqr_coef is not None:\n",
    "    outlier_mask1 = outlier_iqr(x_raw, iqr_coef)\n",
    "plot_data = {}\n",
    "for pc_idx, pc_name in enumerate(pc_names):\n",
    "    ax = axes[pc_idx]\n",
    "    print(f'\\n---{pc_name}---')\n",
    "    y = data[f'{Hemi}H_{pc_name}']\n",
    "    if iqr_coef is not None:\n",
    "        outlier_mask2 = outlier_iqr(y, iqr_coef)\n",
    "        outlier_mask = np.logical_or(outlier_mask1, outlier_mask2)\n",
    "        non_outlier_mask = ~outlier_mask\n",
    "        x = x_raw[non_outlier_mask]\n",
    "        y = y[non_outlier_mask]\n",
    "    else:\n",
    "        x = x_raw\n",
    "    print('n_vtx', len(x))\n",
    "    plot_polyfit(x, y, 1, color='r', c='darkgray', s=3, ax=ax)\n",
    "    print(\"pearsonr(x, y, alternative='two-sided'):\\n\",\n",
    "          pearsonr(x, y, alternative='two-sided'))\n",
    "    ax.set_ylabel(pc_name)\n",
    "    if pc_idx == (n_pc - 1):\n",
    "        ax.set_xlabel(meas_name)\n",
    "    elif pc_idx == 0:\n",
    "        ax.set_title(f'{out_name1}\\n{out_name2}')\n",
    "    ax.spines['top'].set_visible(False)\n",
    "    ax.spines['right'].set_visible(False)\n",
    "\n",
    "    plot_data[pc_name] = {}\n",
    "    plot_data[pc_name]['PC score'] = y\n",
    "    plot_data[pc_name][meas_name] = x\n",
    "\n",
    "fig.tight_layout()\n",
    "if out_file == 'show':\n",
    "    fig.show()\n",
    "else:\n",
    "    fig.savefig(out_file)\n",
    "\n",
    "if plot_data_file is not None:\n",
    "    pkl.dump(plot_data, open(plot_data_file, 'wb'))\n"
   ]
  },
  {
   "attachments": {},
   "cell_type": "markdown",
   "metadata": {},
   "source": [
    "# 十个腹侧视觉通路脑区的主次梯度值，以及脑区之间的层级关系"
   ]
  },
  {
   "cell_type": "code",
   "execution_count": 2,
   "metadata": {},
   "outputs": [],
   "source": [
    "Hemis = ('L', 'R')\n",
    "pc_names = ['PC1', 'PC2']\n",
    "rois = get_rois('Hierarchy3')\n",
    "fpath = pjoin(anal_dir, 'ROI_scalar/ROI_scalar1_MMP-vis3-{Hemi}.csv')\n",
    "out_file = pjoin(work_dir, 'PC1+2-corr-Hierarchy.csv')\n",
    "\n",
    "n_roi = len(rois)\n",
    "data = {'ROI': rois, 'rank': np.arange(1, n_roi+1)}\n",
    "for Hemi in Hemis:\n",
    "    df = pd.read_csv(fpath.format(Hemi=Hemi), index_col=0)\n",
    "    cols = [f'{Hemi}_{i}' for i in rois]\n",
    "    for pc_name in pc_names:\n",
    "        data[f'{Hemi}H_{pc_name}'] = \\\n",
    "            df.loc[f'mean_{pc_name}', cols].values\n",
    "\n",
    "df = pd.DataFrame(data)\n",
    "df.to_csv(out_file, index=False)\n"
   ]
  },
  {
   "attachments": {},
   "cell_type": "markdown",
   "metadata": {},
   "source": [
    "# 主次梯度与六层胞体密度之间的相关"
   ]
  },
  {
   "cell_type": "code",
   "execution_count": 2,
   "metadata": {},
   "outputs": [],
   "source": [
    "Hemis = ('L', 'R')\n",
    "pc_names = ('C1', 'C2')\n",
    "fpath = pjoin(anal_dir, 'bigbrain/to_32fsLR/PC12-corr-msp_{Hemi}.pkl')\n",
    "out_file = pjoin(work_dir, 'PC1+2-corr-msp.csv')\n",
    "\n",
    "out_dict = {'lyr_idx': None}\n",
    "for Hemi in Hemis:\n",
    "    data = pkl.load(open(fpath.format(Hemi=Hemi), 'rb'))\n",
    "    if out_dict['lyr_idx'] is None:\n",
    "        out_dict['lyr_idx'] = data['layer_name']\n",
    "    else:\n",
    "        assert out_dict['lyr_idx'] == data['layer_name']\n",
    "    for pc_name in pc_names:\n",
    "        out_dict[f'{Hemi}H_P{pc_name} (r)'] = data[f'{pc_name}_corr_layer-mean']\n",
    "        out_dict[f'{Hemi}H_P{pc_name} (p)'] = data[f'{pc_name}_corr_layer-mean-p']\n",
    "\n",
    "out_df = pd.DataFrame(out_dict)\n",
    "out_df.to_csv(out_file, index=False)"
   ]
  },
  {
   "attachments": {},
   "cell_type": "markdown",
   "metadata": {},
   "source": [
    "# 主次梯度与视觉能力的典型相关"
   ]
  },
  {
   "cell_type": "code",
   "execution_count": 2,
   "metadata": {},
   "outputs": [],
   "source": [
    "pc_name2v = {'PC1': 'v31', 'PC2': 'v32'}\n",
    "Hemis = ('L', 'R')\n",
    "pc_names = ('PC1', 'PC2')\n",
    "fpath = pjoin(anal_dir, 'fit/weight-CCA-beh_MMP-vis3-{Hemi}_{v}.pkl')\n",
    "out_file = pjoin(work_dir, 'weight-CCA-beh_first-pair.csv')\n",
    "\n",
    "ps = []\n",
    "out_dict = {'stats': ['r', 'p', 'p (FDR)', 'p (bonferroni)']}\n",
    "for Hemi in Hemis:\n",
    "    for pc_name in pc_names:\n",
    "        cca_dict = pkl.load(open(fpath.format(\n",
    "            Hemi=Hemi, v=pc_name2v[pc_name]), 'rb'))\n",
    "        x = cca_dict['X_trans'][:, 0]\n",
    "        y = cca_dict['Y_trans'][:, 0]\n",
    "        r, p = pearsonr(x, y, alternative='greater')\n",
    "        out_dict[f'{Hemi}H_{pc_name}'] = [r, p]\n",
    "        ps.append(p)\n",
    "\n",
    "_, ps_fdr, _, _ = multipletests(ps, 0.05, 'fdr_bh')\n",
    "_, ps_bonf, _, _ = multipletests(ps, 0.05, 'bonferroni')\n",
    "idx = 0\n",
    "for Hemi in Hemis:\n",
    "    for pc_name in pc_names:\n",
    "        out_dict[f'{Hemi}H_{pc_name}'].extend([ps_fdr[idx], ps_bonf[idx]])\n",
    "        idx += 1\n",
    "\n",
    "out_df = pd.DataFrame(out_dict)\n",
    "out_df.to_csv(out_file, index=False)"
   ]
  },
  {
   "attachments": {},
   "cell_type": "markdown",
   "metadata": {},
   "source": [
    "# 主次梯度的行为模式"
   ]
  },
  {
   "cell_type": "code",
   "execution_count": 2,
   "metadata": {},
   "outputs": [],
   "source": [
    "Hemis = ('L', 'R')\n",
    "pc_names = ('PC1', 'PC2')\n",
    "pc_name2v = {'PC1': 'v31', 'PC2': 'v32'}\n",
    "beh_cols = [\n",
    "    'PicSeq_Unadj', 'CardSort_Unadj', 'Flanker_Unadj',\n",
    "    'PMAT24_A_CR', 'ReadEng_Unadj', 'PicVocab_Unadj',\n",
    "    'ProcSpeed_Unadj', 'VSPLOT_TC', 'SCPT_SEN', 'SCPT_SPEC',\n",
    "    'IWRD_TOT', 'ListSort_Unadj', 'Odor_Unadj', 'EVA_Denom',\n",
    "    'Mars_Final']\n",
    "fpath = pjoin(anal_dir, 'fit/weight-CCA-beh_{vis_name}_{v}.pkl')\n",
    "out_file = pjoin(work_dir, 'weight-CCA-beh_first-pair-weights.csv')\n",
    "\n",
    "beh_name2ability = {\n",
    "'PicSeq_Unadj':\t'Nonverbal Episodic Memory',\n",
    "'CardSort_Unadj': 'Cognitive Flexibility',\n",
    "'Flanker_Unadj': 'Inhibitory Control and Attention',\n",
    "'PMAT24_A_CR': 'Fluid Intelligence',\n",
    "'ReadEng_Unadj': 'Reading Decoding',\n",
    "'PicVocab_Unadj': 'Vocabulary Comprehension',\n",
    "'ProcSpeed_Unadj': 'Processing Speed',\n",
    "'VSPLOT_TC': 'Spatial Orientation Processing',\n",
    "'SCPT_SEN': 'Sustained Attention Sensitivity',\n",
    "'SCPT_SPEC': 'Sustained Attention Specificity',\n",
    "'IWRD_TOT': 'Verbal Episodic Memory',\n",
    "'ListSort_Unadj': 'Working Memory',\n",
    "'Odor_Unadj': 'Odor Identification',\n",
    "'EVA_Denom': 'Visual Acuity',\n",
    "'Mars_Final': 'Contrast Sensitivity'}\n",
    "\n",
    "out_dict = {'behavior_name': beh_cols,\n",
    "            'assessment': [beh_name2ability[i] for i in beh_cols]}\n",
    "for Hemi in Hemis:\n",
    "    vis_name = f'MMP-vis3-{Hemi}'\n",
    "    for pc_name in pc_names:\n",
    "        cca_dict = pkl.load(open(fpath.format(\n",
    "            vis_name=vis_name, v=pc_name2v[pc_name]), 'rb'))\n",
    "        assert beh_cols == cca_dict['target names']\n",
    "        beh_weights = cca_dict['model'].y_rotations_[:, 0]\n",
    "        out_dict[f'{Hemi}H_{pc_name} (raw)'] = beh_weights\n",
    "\n",
    "        ws = np.abs(beh_weights)\n",
    "        bwrs = ws / np.sum(ws)\n",
    "        out_dict[f'{Hemi}H_{pc_name} (BWR)'] = bwrs\n",
    "\n",
    "        w2s = beh_weights ** 2\n",
    "        bw2rs = w2s / np.sum(w2s)\n",
    "        out_dict[f'{Hemi}H_{pc_name} (BW2R)'] = bw2rs\n",
    "\n",
    "out_df = pd.DataFrame(out_dict)\n",
    "out_df.to_csv(out_file, index=False)"
   ]
  },
  {
   "cell_type": "code",
   "execution_count": 2,
   "metadata": {},
   "outputs": [
    {
     "name": "stdout",
     "output_type": "stream",
     "text": [
      "\n",
      "LH beh-pattern_PC1-corr-PC2:\n",
      " PearsonRResult(statistic=0.0023847596477842258, pvalue=0.9932701065855439)\n",
      "\n",
      "RH beh-pattern_PC1-corr-PC2:\n",
      " PearsonRResult(statistic=-0.3529509745465853, pvalue=0.19691285222801344)\n",
      "===LH-PC1===\n",
      ">>>BW2R\n",
      "EVA_Denom(0.2683891468754891), VSPLOT_TC(0.2316708972220311), ReadEng_Unadj(0.0859001052904093), SCPT_SPEC(0.0823053008608857), ListSort_Unadj(0.0781895171033619), PicVocab_Unadj(0.0763354659227827), CardSort_Unadj(0.069423322325806), PicSeq_Unadj(0.0507502890614861), SCPT_SEN(0.0229918087074056), Mars_Final(0.0154988830407001), Flanker_Unadj(0.0069820385711041), Odor_Unadj(0.0050444182875395), PMAT24_A_CR(0.0049130641893779), IWRD_TOT(0.0009004302632585), ProcSpeed_Unadj(0.0007053122783618), BW2R<<<\n",
      "cumulative BW2R from EVA_Denom to EVA_Denom 0.2683891468754891\n",
      "cumulative BW2R from EVA_Denom to VSPLOT_TC 0.5000600440975203\n",
      "cumulative BW2R from EVA_Denom to ReadEng_Unadj 0.5859601493879295\n",
      "cumulative BW2R from EVA_Denom to SCPT_SPEC 0.6682654502488152\n",
      "cumulative BW2R from EVA_Denom to ListSort_Unadj 0.7464549673521771\n",
      "cumulative BW2R from EVA_Denom to PicVocab_Unadj 0.8227904332749598\n",
      "cumulative BW2R from EVA_Denom to CardSort_Unadj 0.8922137556007659\n",
      "cumulative BW2R from EVA_Denom to PicSeq_Unadj 0.942964044662252\n",
      "cumulative BW2R from EVA_Denom to SCPT_SEN 0.9659558533696576\n",
      "cumulative BW2R from EVA_Denom to Mars_Final 0.9814547364103577\n",
      "cumulative BW2R from EVA_Denom to Flanker_Unadj 0.9884367749814619\n",
      "cumulative BW2R from EVA_Denom to Odor_Unadj 0.9934811932690014\n",
      "cumulative BW2R from EVA_Denom to PMAT24_A_CR 0.9983942574583793\n",
      "cumulative BW2R from EVA_Denom to IWRD_TOT 0.9992946877216378\n",
      "cumulative BW2R from EVA_Denom to ProcSpeed_Unadj 0.9999999999999996\n",
      "\n",
      "===LH-PC2===\n",
      ">>>BW2R\n",
      "PicVocab_Unadj(0.7012147176276259), Flanker_Unadj(0.0885730601053979), ReadEng_Unadj(0.0584904994845934), PicSeq_Unadj(0.0481334564397951), Mars_Final(0.0364274093927046), ListSort_Unadj(0.0149346616294169), SCPT_SEN(0.0131252281315771), VSPLOT_TC(0.011174831695061), IWRD_TOT(0.0087090849201731), SCPT_SPEC(0.0069053961809708), CardSort_Unadj(0.0043221460100833), PMAT24_A_CR(0.0037674767319483), Odor_Unadj(0.0034179796297202), ProcSpeed_Unadj(0.0007973242405235), EVA_Denom(6.727780408331676e-06), BW2R<<<\n",
      "cumulative BW2R from PicVocab_Unadj to PicVocab_Unadj 0.7012147176276259\n",
      "cumulative BW2R from PicVocab_Unadj to Flanker_Unadj 0.7897877777330238\n",
      "cumulative BW2R from PicVocab_Unadj to ReadEng_Unadj 0.8482782772176172\n",
      "cumulative BW2R from PicVocab_Unadj to PicSeq_Unadj 0.8964117336574122\n",
      "cumulative BW2R from PicVocab_Unadj to Mars_Final 0.9328391430501168\n",
      "cumulative BW2R from PicVocab_Unadj to ListSort_Unadj 0.9477738046795338\n",
      "cumulative BW2R from PicVocab_Unadj to SCPT_SEN 0.9608990328111109\n",
      "cumulative BW2R from PicVocab_Unadj to VSPLOT_TC 0.9720738645061718\n",
      "cumulative BW2R from PicVocab_Unadj to IWRD_TOT 0.9807829494263449\n",
      "cumulative BW2R from PicVocab_Unadj to SCPT_SPEC 0.9876883456073157\n",
      "cumulative BW2R from PicVocab_Unadj to CardSort_Unadj 0.992010491617399\n",
      "cumulative BW2R from PicVocab_Unadj to PMAT24_A_CR 0.9957779683493473\n",
      "cumulative BW2R from PicVocab_Unadj to Odor_Unadj 0.9991959479790675\n",
      "cumulative BW2R from PicVocab_Unadj to ProcSpeed_Unadj 0.999993272219591\n",
      "cumulative BW2R from PicVocab_Unadj to EVA_Denom 0.9999999999999993\n",
      "\n",
      "===RH-PC1===\n",
      ">>>BW2R\n",
      "SCPT_SPEC(0.2369200998222423), EVA_Denom(0.2329277442339363), Flanker_Unadj(0.1750421020698983), SCPT_SEN(0.0867956139178808), ListSort_Unadj(0.0599852523175764), VSPLOT_TC(0.0563449006187158), Mars_Final(0.0345917238701258), ProcSpeed_Unadj(0.0273070632563737), PicVocab_Unadj(0.0269416723792279), ReadEng_Unadj(0.0203719375119077), CardSort_Unadj(0.018481143919621), IWRD_TOT(0.0113077158025003), PMAT24_A_CR(0.0076663651371539), PicSeq_Unadj(0.0050617451197386), Odor_Unadj(0.0002549200231004), BW2R<<<\n",
      "cumulative BW2R from SCPT_SPEC to SCPT_SPEC 0.2369200998222423\n",
      "cumulative BW2R from SCPT_SPEC to EVA_Denom 0.46984784405617863\n",
      "cumulative BW2R from SCPT_SPEC to Flanker_Unadj 0.6448899461260769\n",
      "cumulative BW2R from SCPT_SPEC to SCPT_SEN 0.7316855600439577\n",
      "cumulative BW2R from SCPT_SPEC to ListSort_Unadj 0.7916708123615341\n",
      "cumulative BW2R from SCPT_SPEC to VSPLOT_TC 0.8480157129802499\n",
      "cumulative BW2R from SCPT_SPEC to Mars_Final 0.8826074368503757\n",
      "cumulative BW2R from SCPT_SPEC to ProcSpeed_Unadj 0.9099145001067493\n",
      "cumulative BW2R from SCPT_SPEC to PicVocab_Unadj 0.9368561724859772\n",
      "cumulative BW2R from SCPT_SPEC to ReadEng_Unadj 0.9572281099978849\n",
      "cumulative BW2R from SCPT_SPEC to CardSort_Unadj 0.9757092539175058\n",
      "cumulative BW2R from SCPT_SPEC to IWRD_TOT 0.9870169697200062\n",
      "cumulative BW2R from SCPT_SPEC to PMAT24_A_CR 0.9946833348571601\n",
      "cumulative BW2R from SCPT_SPEC to PicSeq_Unadj 0.9997450799768987\n",
      "cumulative BW2R from SCPT_SPEC to Odor_Unadj 0.999999999999999\n",
      "\n",
      "===RH-PC2===\n",
      ">>>BW2R\n",
      "PicVocab_Unadj(0.2479351026852088), PMAT24_A_CR(0.2136131964992439), VSPLOT_TC(0.1509992311251725), PicSeq_Unadj(0.1448158989429207), SCPT_SEN(0.1089772771306912), CardSort_Unadj(0.0359705112158789), ProcSpeed_Unadj(0.0261064354989224), IWRD_TOT(0.0190897039298551), ListSort_Unadj(0.0100462486263575), Mars_Final(0.0094092857258452), ReadEng_Unadj(0.0088993521988925), Odor_Unadj(0.0086348648207971), EVA_Denom(0.0078410852250657), Flanker_Unadj(0.006716287280117), SCPT_SPEC(0.0009455190950306), BW2R<<<\n",
      "cumulative BW2R from PicVocab_Unadj to PicVocab_Unadj 0.2479351026852088\n",
      "cumulative BW2R from PicVocab_Unadj to PMAT24_A_CR 0.4615482991844527\n",
      "cumulative BW2R from PicVocab_Unadj to VSPLOT_TC 0.6125475303096253\n",
      "cumulative BW2R from PicVocab_Unadj to PicSeq_Unadj 0.757363429252546\n",
      "cumulative BW2R from PicVocab_Unadj to SCPT_SEN 0.8663407063832371\n",
      "cumulative BW2R from PicVocab_Unadj to CardSort_Unadj 0.902311217599116\n",
      "cumulative BW2R from PicVocab_Unadj to ProcSpeed_Unadj 0.9284176530980385\n",
      "cumulative BW2R from PicVocab_Unadj to IWRD_TOT 0.9475073570278936\n",
      "cumulative BW2R from PicVocab_Unadj to ListSort_Unadj 0.9575536056542511\n",
      "cumulative BW2R from PicVocab_Unadj to Mars_Final 0.9669628913800963\n",
      "cumulative BW2R from PicVocab_Unadj to ReadEng_Unadj 0.9758622435789888\n",
      "cumulative BW2R from PicVocab_Unadj to Odor_Unadj 0.9844971083997859\n",
      "cumulative BW2R from PicVocab_Unadj to EVA_Denom 0.9923381936248515\n",
      "cumulative BW2R from PicVocab_Unadj to Flanker_Unadj 0.9990544809049685\n",
      "cumulative BW2R from PicVocab_Unadj to SCPT_SPEC 0.9999999999999991\n",
      "\n"
     ]
    },
    {
     "data": {
      "image/png": "[encoded data removed]",
      "text/plain": [
       "<Figure size 576x216 with 2 Axes>"
      ]
     },
     "metadata": {
      "needs_background": "light"
     },
     "output_type": "display_data"
    }
   ],
   "source": [
    "figsize = (8, 3)\n",
    "metric = 'BW2R'\n",
    "Hemis = ('L', 'R')\n",
    "pc_names = ('PC1', 'PC2')\n",
    "fpath = pjoin(work_dir, 'weight-CCA-beh_first-pair-weights.csv')\n",
    "out_file = pjoin(work_dir, f'beh-pattern_{metric}.jpg')\n",
    "# out_file = 'show'\n",
    "\n",
    "n_hemi = len(Hemis)\n",
    "n_pc = len(pc_names)\n",
    "df = pd.read_csv(fpath)\n",
    "beh_names = df['behavior_name'].values\n",
    "n_beh = len(beh_names)\n",
    "colors = tuple(meas2color[i] for i in pc_names)\n",
    "\n",
    "ys = []\n",
    "xticklabels = []\n",
    "for Hemi in Hemis:\n",
    "    y = np.zeros((n_pc, n_beh))\n",
    "    for pc_idx, pc_name in enumerate(pc_names):\n",
    "        y[pc_idx] = df[f'{Hemi}H_{pc_name} ({metric})'].values\n",
    "        if pc_name == 'PC2':\n",
    "            sorted_indices = np.argsort(y[pc_idx])\n",
    "    y = y[:, sorted_indices]\n",
    "    print(f'\\n{Hemi}H beh-pattern_PC1-corr-PC2:\\n', pearsonr(y[0], y[1]))\n",
    "    ys.append(y)\n",
    "    xticklabels.append(beh_names[sorted_indices])\n",
    "    \n",
    "plot_line(ys, 1, n_hemi, figsize, label=[pc_names] * 2,\n",
    "          color=[colors] * 2, xticklabel=xticklabels,\n",
    "          rotate_xticklabel=True, ylabel=metric, mode=out_file)\n",
    "\n",
    "for Hemi_idx, Hemi in enumerate(Hemis):\n",
    "    keys = xticklabels[Hemi_idx]\n",
    "    values = ys[Hemi_idx]\n",
    "    for pc_idx, pc_name in enumerate(pc_names):\n",
    "        print(f'==={Hemi}H-{pc_name}===')\n",
    "        sort_indices = np.argsort(values[pc_idx])[::-1]\n",
    "        v_vec = values[pc_idx][sort_indices]\n",
    "        k_vec = keys[sort_indices]\n",
    "        print(f'>>>{metric}')\n",
    "        for k, v in zip(k_vec, v_vec):\n",
    "            print(f'{k}({v})', end=', ')\n",
    "        print(f'{metric}<<<')\n",
    "        cumulative_bwr = 0\n",
    "        for trg_idx, trg_name in enumerate(k_vec):\n",
    "            cumulative_bwr += v_vec[trg_idx]\n",
    "            print(f'cumulative {metric} from {k_vec[0]} to {trg_name}', cumulative_bwr)\n",
    "        print()\n"
   ]
  },
  {
   "attachments": {},
   "cell_type": "markdown",
   "metadata": {},
   "source": [
    "# 主梯度和次梯度与所有年纪窗口中前十个PCA成分(LC1~LC10)的皮尔逊相关"
   ]
  },
  {
   "cell_type": "code",
   "execution_count": null,
   "metadata": {},
   "outputs": [],
   "source": [
    "Hemis = ('L', 'R')\n",
    "vis_name = f'MMP-vis3-{Hemi}'\n",
    "pc_names = ('PC1', 'PC2')\n",
    "dataset_names = ('HCPD', 'HCPY', 'HCPA')\n",
    "dataset_name2file = {\n",
    "    'HCPD': pjoin(anal_dir, 'RSM/RSM7_M+corrT_{vis_name}_zscore1_PCA-subj'\n",
    "                  '_HCPY_corr_HCPD-SW-width50-step10-merge.pkl'),\n",
    "    'HCPY': pjoin(anal_dir, 'RSM/RSM7_M+corrT_{vis_name}_zscore1_PCA-subj'\n",
    "                  '_HCPY_corr_HCPY-SW-width50-step10.pkl'),\n",
    "    'HCPA': pjoin(anal_dir, 'RSM/RSM7_M+corrT_{vis_name}_zscore1_PCA-subj'\n",
    "                  '_HCPY_corr_HCPA-SW-width50-step10-merge.pkl')\n",
    "}\n",
    "sw_pc_names = 'all'\n",
    "out_file = pjoin(work_dir, f'HCPY-PC12_corr_SW-PCs_{vis_name}.svg')\n",
    "# out_file = 'show'\n",
    "\n",
    "n_pc = len(pc_names)\n",
    "n_ds = len(dataset_names)\n",
    "pc2min = {}\n",
    "for pc_name in pc_names:\n",
    "    pc2min[pc_name] = {}\n",
    "fig, axes = plt.subplots(n_pc, n_ds, figsize=figsize)\n",
    "for dataset_idx, dataset_name in enumerate(dataset_names):\n",
    "    fpath = dataset_name2file[dataset_name]\n",
    "    data = pkl.load(open(fpath, 'rb'))\n",
    "    if sw_pc_names == 'all':\n",
    "        rows = data['row_name'][::-1]\n",
    "    else:\n",
    "        rows = sw_pc_names\n",
    "    n_win = data['n_win']\n",
    "    x = np.arange(n_win)\n",
    "    xticks = [x[0], x[-1]]\n",
    "    xticklabels = [1, n_win]\n",
    "    for pc_idx, pc_name in enumerate(pc_names):\n",
    "        ax = axes[pc_idx, dataset_idx]\n",
    "        cols = [f'{pc_name}_corr_Win{i}' for i in range(1, n_win + 1)]\n",
    "        col_indices = [data['col_name'].index(i) for i in cols]\n",
    "        for row_name in rows:\n",
    "            row_idx = data['row_name'].index(row_name)\n",
    "            y = data['r'][row_idx, col_indices]\n",
    "            if row_name in ('C1', 'C2'):\n",
    "                color = meas2color[f'P{row_name}']\n",
    "                if dataset_idx == 0 and pc_idx == n_pc-1:\n",
    "                    ax.plot(x, y, c=color, label=row_name)\n",
    "                else:\n",
    "                    ax.plot(x, y, c=color)\n",
    "                if row_name == pc_name[1:]:\n",
    "                    pc2min[pc_name][dataset_name] = np.min(y)\n",
    "            else:\n",
    "                ax.plot(x, y, c='lightgray')\n",
    "        ax.set_xticks(xticks)\n",
    "        ax.set_xticklabels(xticklabels)\n",
    "        ax.set_yticks([0, 1])\n",
    "        if pc_idx == 0:\n",
    "            ax.set_title(dataset_name)\n",
    "        if dataset_idx == 0:\n",
    "            ax.set_ylabel('r')\n",
    "        if pc_idx == n_pc-1:\n",
    "            ax.set_xlabel('window')\n",
    "            if dataset_idx == 0:\n",
    "                ax.legend()\n",
    "        ax.spines['top'].set_visible(False)\n",
    "        ax.spines['right'].set_visible(False)\n",
    "print(f'PC to minimum corr ({vis_name}):\\n', pc2min)\n",
    "\n",
    "if out_file == 'show':\n",
    "    fig.show()\n",
    "else:\n",
    "    fig.savefig(out_file)"
   ]
  },
  {
   "cell_type": "markdown",
   "metadata": {},
   "source": [
    "# 所有窗口内的被试年龄"
   ]
  },
  {
   "cell_type": "code",
   "execution_count": 2,
   "metadata": {},
   "outputs": [],
   "source": [
    "dataset_names = ('HCPD', 'HCPY', 'HCPA')\n",
    "out_file = pjoin(work_dir, 'ages-in-window.pkl')\n",
    "\n",
    "out_data = {}\n",
    "for dataset_name in dataset_names:\n",
    "    asw = AgeSlideWindow(dataset_name, 50, 10, True)\n",
    "    out_data[dataset_name] = {}\n",
    "    win_ids = np.arange(1, asw.n_win + 1)\n",
    "    for win_id in win_ids:\n",
    "        ages = asw.get_ages(win_id, 'year')\n",
    "        out_data[dataset_name][f'Win{win_id}'] = ages\n",
    "\n",
    "pkl.dump(out_data, open(out_file, 'wb'))\n"
   ]
  }
 ],
 "metadata": {
  "kernelspec": {
   "display_name": "base",
   "language": "python",
   "name": "python3"
  },
  "language_info": {
   "codemirror_mode": {
    "name": "ipython",
    "version": 3
   },
   "file_extension": ".py",
   "mimetype": "text/x-python",
   "name": "python",
   "nbconvert_exporter": "python",
   "pygments_lexer": "ipython3",
   "version": "3.8.5"
  },
  "orig_nbformat": 4,
  "vscode": {
   "interpreter": {
    "hash": "ded51e6ae5fb79fea0b0420ae45d65595baa7e9f6ec8445524f1c7cb23aaaa4c"
   }
  }
 },
 "nbformat": 4,
 "nbformat_minor": 2
}
