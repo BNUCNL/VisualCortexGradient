{
 "cells": [
  {
   "cell_type": "code",
   "execution_count": 1,
   "metadata": {},
   "outputs": [],
   "source": [
    "import os\n",
    "import sys\n",
    "sys.path.append('/nfs/z1/userhome/ChenXiaYu/workingdir/code/MagicBox')\n",
    "import numpy as np\n",
    "import nibabel as nib\n",
    "import seaborn as sns\n",
    "from os.path import join as pjoin\n",
    "from scipy.stats import zscore\n",
    "from matplotlib import pyplot as plt\n",
    "from matplotlib import patches\n",
    "from cxy_visual_dev.lib.predefine import proj_dir, Atlas, get_rois,\\\n",
    "    hemi2stru, hemi2Hemi\n",
    "from magicbox.io.io import CiftiReader\n",
    "from magicbox.algo.metric import calc_overlap\n",
    "from magicbox.vis.plot import show_bar_value, TickRefinery\n",
    "\n",
    "anal_dir = pjoin(proj_dir, 'analysis')\n",
    "work_dir = pjoin(anal_dir, 'plot/distribution')\n",
    "if not os.path.isdir(work_dir):\n",
    "    os.makedirs(work_dir)"
   ]
  },
  {
   "cell_type": "markdown",
   "metadata": {},
   "source": [
    "# 画主次梯度值在EDLV四个部分内的分布"
   ]
  },
  {
   "cell_type": "markdown",
   "metadata": {},
   "source": [
    "## kde"
   ]
  },
  {
   "cell_type": "code",
   "execution_count": 3,
   "metadata": {},
   "outputs": [
    {
     "name": "stderr",
     "output_type": "stream",
     "text": [
      "pixdim[1,2,3] should be non-zero; setting 0 dims to 1\n"
     ]
    },
    {
     "data": {
      "image/png": "[encoded data removed]",
      "text/plain": [
       "<Figure size 252x216 with 1 Axes>"
      ]
     },
     "metadata": {
      "needs_background": "light"
     },
     "output_type": "display_data"
    }
   ],
   "source": [
    "figsize = (3.5, 3)\n",
    "pc_num = 2\n",
    "Hemi = 'L'\n",
    "edlv_names = ['early', 'dorsal', 'lateral', 'ventral']\n",
    "edlv_name2num = {\n",
    "    'early': '①', 'dorsal': '②', 'lateral': '③', 'ventral': '④'}\n",
    "vis_mask = Atlas('HCP-MMP').get_mask(get_rois(f'MMP-vis3-{Hemi}'))[0]\n",
    "pc_file = pjoin(\n",
    "    anal_dir, 'decomposition/'\n",
    "    f'HCPY-M+corrT_MMP-vis3-{Hemi}_zscore1_PCA-subj.dscalar.nii')\n",
    "edlv_file = pjoin(anal_dir, 'divide_map/watershed-PC2_EDLV-seed-v1.dlabel.nii')\n",
    "# edlv_file = pjoin(proj_dir, 'data/HCP/HCP-MMP1_visual-cortex3_EDLV.dlabel.nii')\n",
    "out_name = f'C{pc_num}-kde_in_EDLV-{Hemi}'\n",
    "out_file = pjoin(work_dir, f'{out_name}.svg')\n",
    "# out_file = 'show'\n",
    "\n",
    "pc_map = nib.load(pc_file).get_fdata()[pc_num-1, vis_mask]\n",
    "pc_range = (pc_map.min(), pc_map.max())\n",
    "reader = CiftiReader(edlv_file)\n",
    "edlv_map = reader.get_data()[0, vis_mask]\n",
    "lbl_tab = reader.label_tables()[0]\n",
    "edlv_keys = np.unique(edlv_map)\n",
    "edlv_num2key = {}\n",
    "edlv_num2color = {}\n",
    "for edlv_k in edlv_keys:\n",
    "    edlv_n = lbl_tab[edlv_k].label.lstrip(f'{Hemi}_')\n",
    "    if edlv_n == 'boundary':\n",
    "        continue\n",
    "    edlv_num = edlv_name2num[edlv_n]\n",
    "    edlv_num2key[edlv_num] = edlv_k\n",
    "    edlv_num2color[edlv_num] = lbl_tab[edlv_k].rgba\n",
    "\n",
    "x_label = f'PC{pc_num} value'\n",
    "data = {'Zone': [], x_label: []}\n",
    "for edlv_n in edlv_names:\n",
    "    edlv_num = edlv_name2num[edlv_n]\n",
    "    mask = edlv_map == edlv_num2key[edlv_num]\n",
    "    pc_values = pc_map[mask]\n",
    "    data[x_label].extend(pc_values)\n",
    "    data['Zone'].extend([edlv_num] * len(pc_values))\n",
    "data[x_label] = np.r_[data[x_label], pc_map]\n",
    "data['Zone'] = data['Zone'] + ['whole'] * len(pc_map)\n",
    "edlv_num2color['whole'] = (0, 0, 0, 1)\n",
    "fig, ax = plt.subplots(figsize=figsize)\n",
    "sns.kdeplot(data=data, x=x_label, hue='Zone', palette=edlv_num2color, ax=ax)\n",
    "tick_refiner = TickRefinery(ax)\n",
    "tick_refiner.set_xticks_as_limit(2, 1)\n",
    "tick_refiner.set_yticks_as_limit(2, 3)\n",
    "ax.spines['top'].set_visible(False)\n",
    "ax.spines['right'].set_visible(False)\n",
    "# ymin, ymax = ax.get_ylim()\n",
    "# ax.vlines(pc_range, ymin, ymax, color='k')\n",
    "ax.set_title(out_name)\n",
    "\n",
    "fig.tight_layout()\n",
    "if out_file == 'show':\n",
    "    fig.show()\n",
    "else:\n",
    "    fig.savefig(out_file)\n"
   ]
  },
  {
   "attachments": {},
   "cell_type": "markdown",
   "metadata": {},
   "source": [
    "## range proportion"
   ]
  },
  {
   "cell_type": "code",
   "execution_count": 6,
   "metadata": {},
   "outputs": [
    {
     "name": "stderr",
     "output_type": "stream",
     "text": [
      "pixdim[1,2,3] should be non-zero; setting 0 dims to 1\n"
     ]
    },
    {
     "name": "stdout",
     "output_type": "stream",
     "text": [
      "{'early': 5.0, 'dorsal': 6.0, 'lateral': 7.0, 'ventral': 8.0, 'boundary': 10.0}\n",
      "early: 0.9528945898425285; dorsal: 0.920139809978744; lateral: 0.6425871304719332; ventral: 1.08009397554295; "
     ]
    },
    {
     "data": {
      "image/png": "[encoded data removed]",
      "text/plain": [
       "<Figure size 460.8x288 with 1 Axes>"
      ]
     },
     "metadata": {
      "needs_background": "light"
     },
     "output_type": "display_data"
    }
   ],
   "source": [
    "figsize = (6.4, 4)\n",
    "range_type = 'iqr'\n",
    "pc_num = 2\n",
    "Hemi = 'R'\n",
    "vis_name = f'MMP-vis3-{Hemi}'\n",
    "edlv_names = ['early', 'dorsal', 'lateral', 'ventral']\n",
    "vis_mask = Atlas('HCP-MMP').get_mask(get_rois(vis_name))[0]\n",
    "pc_file = pjoin(\n",
    "    anal_dir, 'decomposition/'\n",
    "    f'HCPY-M+corrT_{vis_name}_zscore1_PCA-subj.dscalar.nii')\n",
    "edlv_file = pjoin(anal_dir, 'divide_map/watershed-PC2_EDLV-seed-v1.dlabel.nii')\n",
    "out_name = f'C{pc_num}_prop-{range_type}_in_EDLV-{Hemi}'\n",
    "out_file = pjoin(work_dir, f'{out_name}.jpg')\n",
    "# out_file = 'show'\n",
    "\n",
    "def calc_range(data, range_type):\n",
    "    if range_type == 'max-min':\n",
    "        res = np.max(data) - np.min(data)\n",
    "    elif range_type == 'iqr':\n",
    "        q3, q1 = np.percentile(data, [75, 25])\n",
    "        res = q3 - q1\n",
    "    else:\n",
    "        raise ValueError\n",
    "    return res\n",
    "\n",
    "pc_map = nib.load(pc_file).get_fdata()[pc_num-1, vis_mask]\n",
    "range_all = calc_range(pc_map, range_type)\n",
    "reader = CiftiReader(edlv_file)\n",
    "edlv_map = reader.get_data()[0, vis_mask]\n",
    "lbl_tab = reader.label_tables()[0]\n",
    "edlv_keys = np.unique(edlv_map)\n",
    "edlv_name2key = {}\n",
    "for edlv_k in edlv_keys:\n",
    "    edlv_n = lbl_tab[edlv_k].label.lstrip(f'{Hemi}_')\n",
    "    edlv_name2key[edlv_n] = edlv_k\n",
    "print(edlv_name2key)\n",
    "x = np.arange(len(edlv_names))\n",
    "y = []\n",
    "for edlv_n in edlv_names:\n",
    "    mask = edlv_map == edlv_name2key[edlv_n]\n",
    "    range_edlv = calc_range(pc_map[mask], range_type)\n",
    "    y.append(range_edlv / range_all)\n",
    "    print(f'{edlv_n}: {y[-1]};', end=' ')\n",
    "\n",
    "fig, ax = plt.subplots(figsize=figsize)\n",
    "ax.bar(x, y)\n",
    "ax.set_xticks(x)\n",
    "ax.set_xticklabels(edlv_names)\n",
    "plt.setp(ax.get_xticklabels(), rotation=45, ha=\"right\",\n",
    "         rotation_mode=\"anchor\")\n",
    "ax.set_ylabel('proportion')\n",
    "ax.spines['top'].set_visible(False)\n",
    "ax.spines['right'].set_visible(False)\n",
    "ax.set_title(out_name)\n",
    "\n",
    "fig.tight_layout()\n",
    "if out_file == 'show':\n",
    "    fig.show()\n",
    "else:\n",
    "    fig.savefig(out_file)"
   ]
  },
  {
   "attachments": {},
   "cell_type": "markdown",
   "metadata": {},
   "source": [
    "## 各个局部的次梯度值的范围占总梯度轴的位置"
   ]
  },
  {
   "cell_type": "code",
   "execution_count": 3,
   "metadata": {},
   "outputs": [
    {
     "name": "stderr",
     "output_type": "stream",
     "text": [
      "pixdim[1,2,3] should be non-zero; setting 0 dims to 1\n"
     ]
    },
    {
     "name": "stdout",
     "output_type": "stream",
     "text": [
      "RH min_all: -39.36438610561375\n",
      "RH max_all: 81.0851622827645\n",
      "{'early': 5.0, 'dorsal': 6.0, 'lateral': 7.0, 'ventral': 8.0, 'boundary': 10.0}\n"
     ]
    },
    {
     "data": {
      "image/png": "[encoded data removed]",
      "text/plain": [
       "<Figure size 144x144 with 1 Axes>"
      ]
     },
     "metadata": {
      "needs_background": "light"
     },
     "output_type": "display_data"
    }
   ],
   "source": [
    "figsize = (2, 2)\n",
    "y_step = 0.6\n",
    "rect_height = 0.5\n",
    "Hemi = 'R'\n",
    "vis_name = f'MMP-vis3-{Hemi}'\n",
    "edlv_names = ['early', 'dorsal', 'lateral', 'ventral']\n",
    "edlv_name2num = {\n",
    "    'early': '①', 'dorsal': '②', 'lateral': '③', 'ventral': '④'}\n",
    "pc_file = pjoin(\n",
    "    anal_dir, 'decomposition/'\n",
    "    f'HCPY-M+corrT_{vis_name}_zscore1_PCA-subj.dscalar.nii')\n",
    "edlv_file = pjoin(anal_dir, 'divide_map/watershed-PC2_EDLV-seed-v1.dlabel.nii')\n",
    "out_name = f'C2-range_in_EDLV-{Hemi}'\n",
    "out_file = pjoin(work_dir, f'{out_name}.svg')\n",
    "out_file = 'show'\n",
    "\n",
    "n_edlv = len(edlv_names)\n",
    "vis_mask = Atlas('HCP-MMP').get_mask(get_rois(vis_name))[0]\n",
    "pc_map = nib.load(pc_file).get_fdata()[1, vis_mask]\n",
    "min_all, max_all = np.min(pc_map), np.max(pc_map)\n",
    "print(f'{Hemi}H min_all:', min_all)\n",
    "print(f'{Hemi}H max_all:', max_all)\n",
    "width_all = max_all - min_all\n",
    "reader = CiftiReader(edlv_file)\n",
    "edlv_map = reader.get_data()[0, vis_mask]\n",
    "lbl_tab = reader.label_tables()[0]\n",
    "edlv_keys = np.unique(edlv_map)\n",
    "edlv_name2key = {}\n",
    "for edlv_k in edlv_keys:\n",
    "    edlv_n = lbl_tab[edlv_k].label.lstrip(f'{Hemi}_')\n",
    "    edlv_name2key[edlv_n] = edlv_k\n",
    "print(edlv_name2key)\n",
    "fig, ax = plt.subplots(figsize=figsize)\n",
    "yticks = []\n",
    "yticklabels = []\n",
    "for edlv_idx, edlv_n in enumerate(edlv_names[::-1], 1):\n",
    "    y = edlv_idx * y_step\n",
    "    yticks.append(y)\n",
    "    yticklabels.append(edlv_name2num[edlv_n])\n",
    "    mask = edlv_map == edlv_name2key[edlv_n]\n",
    "    data = pc_map[mask]\n",
    "    min_tmp, max_tmp = np.min(data), np.max(data)\n",
    "    width_tmp = max_tmp - min_tmp\n",
    "    ax.add_patch(patches.Rectangle(\n",
    "        (min_tmp, y), width_tmp, rect_height,\n",
    "        ec=(0, 0, 0, 0), fc='darkgray'))\n",
    "    ax.add_patch(patches.Rectangle(\n",
    "        (min_all, y), width_all, rect_height,\n",
    "        ec='k', fc=(0, 0, 0, 0)))\n",
    "ax.set_xlim(min_all-2, max_all+1)\n",
    "ax.set_ylim(0, (n_edlv+1)*y_step)\n",
    "ax.set_yticks(yticks)\n",
    "ax.set_yticklabels(yticklabels)\n",
    "ax.spines['top'].set_visible(False)\n",
    "ax.spines['right'].set_visible(False)\n",
    "ax.set_title(out_name)\n",
    "\n",
    "fig.tight_layout()\n",
    "if out_file == 'show':\n",
    "    fig.show()\n",
    "else:\n",
    "    fig.savefig(out_file)"
   ]
  },
  {
   "attachments": {},
   "cell_type": "markdown",
   "metadata": {},
   "source": [
    "## 四个局部和四个通路的重叠(bar图)"
   ]
  },
  {
   "cell_type": "code",
   "execution_count": 3,
   "metadata": {},
   "outputs": [
    {
     "name": "stderr",
     "output_type": "stream",
     "text": [
      "pixdim[1,2,3] should be non-zero; setting 0 dims to 1\n"
     ]
    },
    {
     "name": "stdout",
     "output_type": "stream",
     "text": [
      "{'???': 0.0, 'early': 5.0, 'dorsal': 6.0, 'lateral': 7.0, 'ventral': 8.0}\n",
      "{'early': 1.0, 'dorsal': 2.0, 'lateral': 3.0, 'ventral': 4.0, 'boundary': 9.0}\n"
     ]
    },
    {
     "data": {
      "image/png": "[encoded data removed]",
      "text/plain": [
       "<Figure size 216x576 with 4 Axes>"
      ]
     },
     "metadata": {
      "needs_background": "light"
     },
     "output_type": "display_data"
    }
   ],
   "source": [
    "figsize = (3, 8)\n",
    "Hemi = 'L'\n",
    "vis_name = f'MMP-vis3-{Hemi}'\n",
    "edlv_names = ['early', 'dorsal', 'lateral', 'ventral']\n",
    "edlv2num = {'early': '①', 'dorsal': '②', 'lateral': '③', 'ventral': '④'}\n",
    "vis_mask = Atlas('HCP-MMP').get_mask(get_rois(vis_name))[0]\n",
    "wang_file = pjoin(proj_dir, 'data/wang2015/wang2015_4region.32k_fs_LR.dlabel.nii')\n",
    "edlv_file = pjoin(anal_dir, 'divide_map/watershed-PC2_EDLV-seed-v1.dlabel.nii')\n",
    "out_name = f'EDLV-intersect-Wang-{Hemi}'\n",
    "out_file = pjoin(work_dir, f'{out_name}.jpg')\n",
    "# out_file = 'show'\n",
    "\n",
    "reader1 = CiftiReader(wang_file)\n",
    "wang_map = reader1.get_data()[0, vis_mask]\n",
    "lbl_tab1 = reader1.label_tables()[0]\n",
    "wang_keys = np.unique(wang_map)\n",
    "wang_name2key = {}\n",
    "for wang_k in wang_keys:\n",
    "    wang_n = lbl_tab1[wang_k].label.lstrip(f'{Hemi}_')\n",
    "    wang_name2key[wang_n] = wang_k\n",
    "print(wang_name2key)\n",
    "\n",
    "reader2 = CiftiReader(edlv_file)\n",
    "edlv_map = reader2.get_data()[0, vis_mask]\n",
    "lbl_tab2 = reader2.label_tables()[0]\n",
    "edlv_keys = np.unique(edlv_map)\n",
    "edlv_name2key = {}\n",
    "for edlv_k in edlv_keys:\n",
    "    edlv_n = lbl_tab2[edlv_k].label.lstrip(f'{Hemi}_')\n",
    "    edlv_name2key[edlv_n] = edlv_k\n",
    "print(edlv_name2key)\n",
    "\n",
    "n_edlv = len(edlv_names)\n",
    "x = np.arange(n_edlv)\n",
    "fig, axes = plt.subplots(n_edlv, 1, figsize=figsize)\n",
    "for edlv_idx, edlv_n in enumerate(edlv_names):\n",
    "    ax = axes[edlv_idx]\n",
    "    edlv_mask = edlv_map == edlv_name2key[edlv_n]\n",
    "    edlv_data = np.where(edlv_mask)[0]\n",
    "    y = np.zeros(n_edlv)\n",
    "    for wang_idx, wang_n in enumerate(edlv_names):\n",
    "        wang_mask = wang_map == wang_name2key[wang_n]\n",
    "        wang_data = np.where(wang_mask)[0]\n",
    "        y[wang_idx] = calc_overlap(wang_data, edlv_data, index='percent')\n",
    "    rects = ax.bar(x, y)\n",
    "    show_bar_value(rects, '.2f', ax)\n",
    "    ax.set_xticks(x)\n",
    "    ax.set_xticklabels(edlv_names)\n",
    "    plt.setp(ax.get_xticklabels(), rotation=45, ha=\"right\",\n",
    "             rotation_mode=\"anchor\")\n",
    "    ax.set_ylabel('percent')\n",
    "    ax.spines['top'].set_visible(False)\n",
    "    ax.spines['right'].set_visible(False)\n",
    "    if edlv_idx == 0:\n",
    "        ax.set_title(f'{out_name}\\n{edlv2num[edlv_n]}')\n",
    "    else:\n",
    "        ax.set_title(f'{edlv2num[edlv_n]}')\n",
    "    if edlv_idx == n_edlv - 1:\n",
    "        ax.set_xlabel('Wang2015 Pathway')\n",
    "\n",
    "fig.tight_layout()\n",
    "if out_file == 'show':\n",
    "    fig.show()\n",
    "else:\n",
    "    fig.savefig(out_file)"
   ]
  },
  {
   "attachments": {},
   "cell_type": "markdown",
   "metadata": {},
   "source": [
    "## 四个局部和四个通路的重叠(矩阵图)"
   ]
  },
  {
   "cell_type": "code",
   "execution_count": 3,
   "metadata": {},
   "outputs": [
    {
     "name": "stderr",
     "output_type": "stream",
     "text": [
      "pixdim[1,2,3] should be non-zero; setting 0 dims to 1\n"
     ]
    },
    {
     "name": "stdout",
     "output_type": "stream",
     "text": [
      "{'???': 0.0, 'early': 5.0, 'dorsal': 6.0, 'lateral': 7.0, 'ventral': 8.0}\n",
      "{'①': 1.0, '②': 2.0, '③': 3.0, '④': 4.0}\n",
      "[[8.29817833e-01 7.28667306e-02 4.79386385e-04 1.43815916e-03]\n",
      " [1.51597185e-02 1.61884136e-01 0.00000000e+00 0.00000000e+00]\n",
      " [1.01825843e-01 5.26685393e-02 5.00000000e-01 1.62921348e-01]\n",
      " [1.06060606e-01 0.00000000e+00 0.00000000e+00 2.51196172e-01]]\n"
     ]
    },
    {
     "data": {
      "image/png": "[encoded data removed]",
      "text/plain": [
       "<Figure size 216x252 with 1 Axes>"
      ]
     },
     "metadata": {
      "needs_background": "light"
     },
     "output_type": "display_data"
    }
   ],
   "source": [
    "# 计算每个通路在每个局部内的交集占后者的百分比。\n",
    "# 含义是，某个局部有多少百分比的顶点属于某个通路。\n",
    "# 期望的结果是，该局部属于某个通路的百分比远大于其它通路，由此将该局部标记为该通路。\n",
    "figsize = (3, 3.5)\n",
    "Hemi = 'L'\n",
    "vis_name = f'MMP-vis3-{Hemi}'\n",
    "edlv_names = ['early', 'dorsal', 'lateral', 'ventral']\n",
    "edlv2num = {'early': '①', 'dorsal': '②', 'lateral': '③', 'ventral': '④'}\n",
    "edlv_type = 'HCP-MMP'\n",
    "local_file = pjoin(anal_dir, 'divide_map/watershed-PC2_EDLV-seed-v1.dlabel.nii')\n",
    "out_name = f'local_intersect_EDLV-{edlv_type}_{Hemi}'\n",
    "out_file = pjoin(work_dir, f'{out_name}.svg')\n",
    "# out_file = 'show'\n",
    "\n",
    "edlv_type2file = {\n",
    "    'Wang2015': pjoin(\n",
    "        proj_dir, 'data/wang2015/wang2015_4region.32k_fs_LR.dlabel.nii'),\n",
    "    'HCP-MMP': pjoin(\n",
    "        proj_dir, 'data/HCP/HCP-MMP1_EDLV.dlabel.nii'),\n",
    "    'HCP-MMP2': pjoin(\n",
    "        proj_dir, 'data/HCP/HCP-MMP1_visual-cortex3_EDLV.dlabel.nii')}\n",
    "edlv_file = edlv_type2file[edlv_type]\n",
    "\n",
    "vis_mask = Atlas('HCP-MMP').get_mask(get_rois(vis_name))[0]\n",
    "reader1 = CiftiReader(edlv_file)\n",
    "edlv_map = reader1.get_data()[0, vis_mask]\n",
    "lbl_tab1 = reader1.label_tables()[0]\n",
    "edlv_keys = np.unique(edlv_map)\n",
    "edlv_name2key = {}\n",
    "for edlv_k in edlv_keys:\n",
    "    edlv_n = lbl_tab1[edlv_k].label.lstrip(f'{Hemi}_')\n",
    "    edlv_name2key[edlv_n] = edlv_k\n",
    "print(edlv_name2key)\n",
    "\n",
    "reader2 = CiftiReader(local_file)\n",
    "local_map = reader2.get_data()[0, vis_mask]\n",
    "lbl_tab2 = reader2.label_tables()[0]\n",
    "local_keys = np.unique(local_map)\n",
    "local_names = []\n",
    "local_name2key = {}\n",
    "for local_k in local_keys:\n",
    "    edlv_n = lbl_tab2[local_k].label.lstrip(f'{Hemi}_')\n",
    "    if edlv_n == 'boundary':\n",
    "        continue\n",
    "    local_n = edlv2num[edlv_n]\n",
    "    local_names.append(local_n)\n",
    "    local_name2key[local_n] = local_k\n",
    "print(local_name2key)\n",
    "\n",
    "n_edlv = len(edlv_names)\n",
    "n_local = len(local_names)\n",
    "arr = np.zeros((n_local, n_edlv))\n",
    "for local_idx, local_n in enumerate(local_names):\n",
    "    local_mask = local_map == local_name2key[local_n]\n",
    "    local_data = np.where(local_mask)[0]\n",
    "    for edlv_idx, edlv_n in enumerate(edlv_names):\n",
    "        edlv_mask = edlv_map == edlv_name2key[edlv_n]\n",
    "        edlv_data = np.where(edlv_mask)[0]\n",
    "        arr[local_idx, edlv_idx] = \\\n",
    "            calc_overlap(local_data, edlv_data, index='percent')\n",
    "print(arr)\n",
    "arr_plot = zscore(arr, 1)\n",
    "arr_show = arr * 100\n",
    "\n",
    "fig, ax = plt.subplots(1, 1, figsize=figsize)\n",
    "x = np.arange(n_edlv)\n",
    "y = np.arange(n_local)\n",
    "img = ax.imshow(arr_plot, 'coolwarm')\n",
    "ax.set_xticks(x)\n",
    "ax.set_xticklabels(edlv_names)\n",
    "plt.setp(ax.get_xticklabels(), rotation=45, ha=\"right\",\n",
    "         rotation_mode=\"anchor\")\n",
    "ax.set_yticks(y)\n",
    "ax.set_yticklabels(local_names)\n",
    "ax.spines['top'].set_visible(False)\n",
    "ax.spines['right'].set_visible(False)\n",
    "ax.spines['bottom'].set_visible(False)\n",
    "ax.spines['left'].set_visible(False)\n",
    "ax.set_title(out_name)\n",
    "\n",
    "# make grid line\n",
    "grid_yticks = np.r_[y-.5, y[-1]+.5]\n",
    "ax.set_yticks(grid_yticks, minor=True)\n",
    "ax.grid(which=\"minor\", color=\"w\", linestyle='-', linewidth=2)\n",
    "ax.tick_params(which=\"minor\", bottom=False, left=False)\n",
    "\n",
    "# show values\n",
    "for i in range(n_local):\n",
    "    for j in range(n_edlv):\n",
    "        weight = None  # bold or None\n",
    "        ax.text(j, i, '{:.1f}%'.format(arr_show[i, j]),\n",
    "                ha=\"center\", va=\"center\", color=\"k\", weight=weight)\n",
    "\n",
    "fig.tight_layout()\n",
    "if out_file == 'show':\n",
    "    fig.show()\n",
    "else:\n",
    "    fig.savefig(out_file)"
   ]
  }
 ],
 "metadata": {
  "kernelspec": {
   "display_name": "Python 3.8.5 ('base')",
   "language": "python",
   "name": "python3"
  },
  "language_info": {
   "codemirror_mode": {
    "name": "ipython",
    "version": 3
   },
   "file_extension": ".py",
   "mimetype": "text/x-python",
   "name": "python",
   "nbconvert_exporter": "python",
   "pygments_lexer": "ipython3",
   "version": "3.8.5"
  },
  "orig_nbformat": 4,
  "vscode": {
   "interpreter": {
    "hash": "ded51e6ae5fb79fea0b0420ae45d65595baa7e9f6ec8445524f1c7cb23aaaa4c"
   }
  }
 },
 "nbformat": 4,
 "nbformat_minor": 2
}
